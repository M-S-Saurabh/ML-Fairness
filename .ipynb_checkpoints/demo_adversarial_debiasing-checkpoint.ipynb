{
 "cells": [
  {
   "cell_type": "markdown",
   "metadata": {},
   "source": [
    "#### This notebook demonstrates the use of adversarial debiasing algorithm to learn a fair classifier.\n",
    "Adversarial debiasing [1] is an in-processing technique that learns a classifier to maximize prediction accuracy and simultaneously reduce an adversary's ability to determine the protected attribute from the predictions. This approach leads to a fair classifier as the predictions cannot carry any group discrimination information that the adversary can exploit. We will see how to use this algorithm for learning models with and without fairness constraints and apply them on the Adult dataset."
   ]
  },
  {
   "cell_type": "code",
   "execution_count": 1,
   "metadata": {},
   "outputs": [
    {
     "name": "stderr",
     "output_type": "stream",
     "text": [
      "WARNING:root:No module named 'numba': LFR will be unavailable. To install, run:\n",
      "pip install 'aif360[LFR]'\n"
     ]
    }
   ],
   "source": [
    "%matplotlib inline\n",
    "# Load all necessary packages\n",
    "import sys\n",
    "sys.path.append(\"../\")\n",
    "from aif360.datasets import BinaryLabelDataset\n",
    "from aif360.datasets import AdultDataset, GermanDataset, CompasDataset\n",
    "from aif360.metrics import BinaryLabelDatasetMetric\n",
    "from aif360.metrics import ClassificationMetric\n",
    "from aif360.metrics.utils import compute_boolean_conditioning_vector\n",
    "\n",
    "from aif360.algorithms.preprocessing.optim_preproc_helpers.data_preproc_functions import load_preproc_data_adult, load_preproc_data_compas, load_preproc_data_german\n",
    "\n",
    "from aif360.algorithms.inprocessing.adversarial_debiasing import AdversarialDebiasing\n",
    "\n",
    "from sklearn.linear_model import LogisticRegression\n",
    "from sklearn.preprocessing import StandardScaler, MaxAbsScaler\n",
    "from sklearn.metrics import accuracy_score\n",
    "\n",
    "from IPython.display import Markdown, display\n",
    "import matplotlib.pyplot as plt\n",
    "\n",
    "import tensorflow as tf"
   ]
  },
  {
   "cell_type": "markdown",
   "metadata": {},
   "source": [
    "#### Load dataset and set options"
   ]
  },
  {
   "cell_type": "code",
   "execution_count": 2,
   "metadata": {},
   "outputs": [],
   "source": [
    "# Get the dataset and split into train and test\n",
    "dataset_orig = load_preproc_data_compas(['race'])\n",
    "\n",
    "privileged_groups = [{'race': 1}]\n",
    "unprivileged_groups = [{'race': 0}]\n",
    "\n",
    "dataset_orig_train, dataset_orig_test = dataset_orig.split([0.7], shuffle=True)"
   ]
  },
  {
   "cell_type": "code",
   "execution_count": 3,
   "metadata": {},
   "outputs": [
    {
     "data": {
      "text/markdown": [
       "#### Training Dataset shape"
      ],
      "text/plain": [
       "<IPython.core.display.Markdown object>"
      ]
     },
     "metadata": {},
     "output_type": "display_data"
    },
    {
     "name": "stdout",
     "output_type": "stream",
     "text": [
      "(3694, 10)\n"
     ]
    },
    {
     "data": {
      "text/markdown": [
       "#### Favorable and unfavorable labels"
      ],
      "text/plain": [
       "<IPython.core.display.Markdown object>"
      ]
     },
     "metadata": {},
     "output_type": "display_data"
    },
    {
     "name": "stdout",
     "output_type": "stream",
     "text": [
      "0.0 1.0\n"
     ]
    },
    {
     "data": {
      "text/markdown": [
       "#### Protected attribute names"
      ],
      "text/plain": [
       "<IPython.core.display.Markdown object>"
      ]
     },
     "metadata": {},
     "output_type": "display_data"
    },
    {
     "name": "stdout",
     "output_type": "stream",
     "text": [
      "['race']\n"
     ]
    },
    {
     "data": {
      "text/markdown": [
       "#### Privileged and unprivileged protected attribute values"
      ],
      "text/plain": [
       "<IPython.core.display.Markdown object>"
      ]
     },
     "metadata": {},
     "output_type": "display_data"
    },
    {
     "name": "stdout",
     "output_type": "stream",
     "text": [
      "[array([1.])] [array([0.])]\n"
     ]
    },
    {
     "data": {
      "text/markdown": [
       "#### Dataset feature names"
      ],
      "text/plain": [
       "<IPython.core.display.Markdown object>"
      ]
     },
     "metadata": {},
     "output_type": "display_data"
    },
    {
     "name": "stdout",
     "output_type": "stream",
     "text": [
      "['sex', 'race', 'age_cat=25 to 45', 'age_cat=Greater than 45', 'age_cat=Less than 25', 'priors_count=0', 'priors_count=1 to 3', 'priors_count=More than 3', 'c_charge_degree=F', 'c_charge_degree=M']\n"
     ]
    }
   ],
   "source": [
    "# print out some labels, names, etc.\n",
    "display(Markdown(\"#### Training Dataset shape\"))\n",
    "print(dataset_orig_train.features.shape)\n",
    "display(Markdown(\"#### Favorable and unfavorable labels\"))\n",
    "print(dataset_orig_train.favorable_label, dataset_orig_train.unfavorable_label)\n",
    "display(Markdown(\"#### Protected attribute names\"))\n",
    "print(dataset_orig_train.protected_attribute_names)\n",
    "display(Markdown(\"#### Privileged and unprivileged protected attribute values\"))\n",
    "print(dataset_orig_train.privileged_protected_attributes, \n",
    "      dataset_orig_train.unprivileged_protected_attributes)\n",
    "display(Markdown(\"#### Dataset feature names\"))\n",
    "print(dataset_orig_train.feature_names)"
   ]
  },
  {
   "cell_type": "markdown",
   "metadata": {},
   "source": [
    "#### Metric for original training data"
   ]
  },
  {
   "cell_type": "code",
   "execution_count": 4,
   "metadata": {},
   "outputs": [
    {
     "data": {
      "text/markdown": [
       "#### Original training dataset"
      ],
      "text/plain": [
       "<IPython.core.display.Markdown object>"
      ]
     },
     "metadata": {},
     "output_type": "display_data"
    },
    {
     "name": "stdout",
     "output_type": "stream",
     "text": [
      "Train set: Difference in mean outcomes between unprivileged and privileged groups = -0.118792\n",
      "Test set: Difference in mean outcomes between unprivileged and privileged groups = -0.163734\n"
     ]
    }
   ],
   "source": [
    "# Metric for the original dataset\n",
    "metric_orig_train = BinaryLabelDatasetMetric(dataset_orig_train, \n",
    "                                             unprivileged_groups=unprivileged_groups,\n",
    "                                             privileged_groups=privileged_groups)\n",
    "display(Markdown(\"#### Original training dataset\"))\n",
    "print(\"Train set: Difference in mean outcomes between unprivileged and privileged groups = %f\" % metric_orig_train.mean_difference())\n",
    "metric_orig_test = BinaryLabelDatasetMetric(dataset_orig_test, \n",
    "                                             unprivileged_groups=unprivileged_groups,\n",
    "                                             privileged_groups=privileged_groups)\n",
    "print(\"Test set: Difference in mean outcomes between unprivileged and privileged groups = %f\" % metric_orig_test.mean_difference())"
   ]
  },
  {
   "cell_type": "code",
   "execution_count": 5,
   "metadata": {},
   "outputs": [
    {
     "data": {
      "text/markdown": [
       "#### Scaled dataset - Verify that the scaling does not affect the group label statistics"
      ],
      "text/plain": [
       "<IPython.core.display.Markdown object>"
      ]
     },
     "metadata": {},
     "output_type": "display_data"
    },
    {
     "name": "stdout",
     "output_type": "stream",
     "text": [
      "Train set: Difference in mean outcomes between unprivileged and privileged groups = -0.118792\n",
      "Test set: Difference in mean outcomes between unprivileged and privileged groups = -0.163734\n"
     ]
    }
   ],
   "source": [
    "min_max_scaler = MaxAbsScaler()\n",
    "dataset_orig_train.features = min_max_scaler.fit_transform(dataset_orig_train.features)\n",
    "dataset_orig_test.features = min_max_scaler.transform(dataset_orig_test.features)\n",
    "metric_scaled_train = BinaryLabelDatasetMetric(dataset_orig_train, \n",
    "                             unprivileged_groups=unprivileged_groups,\n",
    "                             privileged_groups=privileged_groups)\n",
    "display(Markdown(\"#### Scaled dataset - Verify that the scaling does not affect the group label statistics\"))\n",
    "print(\"Train set: Difference in mean outcomes between unprivileged and privileged groups = %f\" % metric_scaled_train.mean_difference())\n",
    "metric_scaled_test = BinaryLabelDatasetMetric(dataset_orig_test, \n",
    "                             unprivileged_groups=unprivileged_groups,\n",
    "                             privileged_groups=privileged_groups)\n",
    "print(\"Test set: Difference in mean outcomes between unprivileged and privileged groups = %f\" % metric_scaled_test.mean_difference())\n"
   ]
  },
  {
   "cell_type": "markdown",
   "metadata": {},
   "source": [
    "### Learn plain classifier without debiasing"
   ]
  },
  {
   "cell_type": "code",
   "execution_count": 6,
   "metadata": {},
   "outputs": [],
   "source": [
    "# Load post-processing algorithm that equalizes the odds\n",
    "# Learn parameters with debias set to False\n",
    "sess = tf.Session()\n",
    "plain_model = AdversarialDebiasing(privileged_groups = privileged_groups,\n",
    "                          unprivileged_groups = unprivileged_groups,\n",
    "                          scope_name='plain_classifier',\n",
    "                          debias=False,\n",
    "                          sess=sess)"
   ]
  },
  {
   "cell_type": "code",
   "execution_count": 7,
   "metadata": {
    "scrolled": true
   },
   "outputs": [
    {
     "name": "stdout",
     "output_type": "stream",
     "text": [
      "WARNING:tensorflow:From C:\\Users\\magic\\envs\\ai_hw\\lib\\site-packages\\aif360\\algorithms\\inprocessing\\adversarial_debiasing.py:137: The name tf.variable_scope is deprecated. Please use tf.compat.v1.variable_scope instead.\n",
      "\n"
     ]
    },
    {
     "name": "stderr",
     "output_type": "stream",
     "text": [
      "WARNING:tensorflow:From C:\\Users\\magic\\envs\\ai_hw\\lib\\site-packages\\aif360\\algorithms\\inprocessing\\adversarial_debiasing.py:137: The name tf.variable_scope is deprecated. Please use tf.compat.v1.variable_scope instead.\n",
      "\n"
     ]
    },
    {
     "name": "stdout",
     "output_type": "stream",
     "text": [
      "WARNING:tensorflow:From C:\\Users\\magic\\envs\\ai_hw\\lib\\site-packages\\aif360\\algorithms\\inprocessing\\adversarial_debiasing.py:141: The name tf.placeholder is deprecated. Please use tf.compat.v1.placeholder instead.\n",
      "\n"
     ]
    },
    {
     "name": "stderr",
     "output_type": "stream",
     "text": [
      "WARNING:tensorflow:From C:\\Users\\magic\\envs\\ai_hw\\lib\\site-packages\\aif360\\algorithms\\inprocessing\\adversarial_debiasing.py:141: The name tf.placeholder is deprecated. Please use tf.compat.v1.placeholder instead.\n",
      "\n"
     ]
    },
    {
     "name": "stdout",
     "output_type": "stream",
     "text": [
      "WARNING:tensorflow:From C:\\Users\\magic\\envs\\ai_hw\\lib\\site-packages\\aif360\\algorithms\\inprocessing\\adversarial_debiasing.py:84: The name tf.get_variable is deprecated. Please use tf.compat.v1.get_variable instead.\n",
      "\n"
     ]
    },
    {
     "name": "stderr",
     "output_type": "stream",
     "text": [
      "WARNING:tensorflow:From C:\\Users\\magic\\envs\\ai_hw\\lib\\site-packages\\aif360\\algorithms\\inprocessing\\adversarial_debiasing.py:84: The name tf.get_variable is deprecated. Please use tf.compat.v1.get_variable instead.\n",
      "\n"
     ]
    },
    {
     "name": "stdout",
     "output_type": "stream",
     "text": [
      "WARNING:tensorflow:\n",
      "The TensorFlow contrib module will not be included in TensorFlow 2.0.\n",
      "For more information, please see:\n",
      "  * https://github.com/tensorflow/community/blob/master/rfcs/20180907-contrib-sunset.md\n",
      "  * https://github.com/tensorflow/addons\n",
      "  * https://github.com/tensorflow/io (for I/O related ops)\n",
      "If you depend on functionality not listed there, please file an issue.\n",
      "\n"
     ]
    },
    {
     "name": "stderr",
     "output_type": "stream",
     "text": [
      "WARNING:tensorflow:\n",
      "The TensorFlow contrib module will not be included in TensorFlow 2.0.\n",
      "For more information, please see:\n",
      "  * https://github.com/tensorflow/community/blob/master/rfcs/20180907-contrib-sunset.md\n",
      "  * https://github.com/tensorflow/addons\n",
      "  * https://github.com/tensorflow/io (for I/O related ops)\n",
      "If you depend on functionality not listed there, please file an issue.\n",
      "\n"
     ]
    },
    {
     "name": "stdout",
     "output_type": "stream",
     "text": [
      "WARNING:tensorflow:From C:\\Users\\magic\\envs\\ai_hw\\lib\\site-packages\\aif360\\algorithms\\inprocessing\\adversarial_debiasing.py:89: calling dropout (from tensorflow.python.ops.nn_ops) with keep_prob is deprecated and will be removed in a future version.\n",
      "Instructions for updating:\n",
      "Please use `rate` instead of `keep_prob`. Rate should be set to `rate = 1 - keep_prob`.\n"
     ]
    },
    {
     "name": "stderr",
     "output_type": "stream",
     "text": [
      "WARNING:tensorflow:From C:\\Users\\magic\\envs\\ai_hw\\lib\\site-packages\\aif360\\algorithms\\inprocessing\\adversarial_debiasing.py:89: calling dropout (from tensorflow.python.ops.nn_ops) with keep_prob is deprecated and will be removed in a future version.\n",
      "Instructions for updating:\n",
      "Please use `rate` instead of `keep_prob`. Rate should be set to `rate = 1 - keep_prob`.\n"
     ]
    },
    {
     "name": "stdout",
     "output_type": "stream",
     "text": [
      "WARNING:tensorflow:From C:\\Users\\magic\\envs\\ai_hw\\lib\\site-packages\\tensorflow_core\\python\\ops\\nn_impl.py:183: where (from tensorflow.python.ops.array_ops) is deprecated and will be removed in a future version.\n",
      "Instructions for updating:\n",
      "Use tf.where in 2.0, which has the same broadcast rule as np.where\n"
     ]
    },
    {
     "name": "stderr",
     "output_type": "stream",
     "text": [
      "WARNING:tensorflow:From C:\\Users\\magic\\envs\\ai_hw\\lib\\site-packages\\tensorflow_core\\python\\ops\\nn_impl.py:183: where (from tensorflow.python.ops.array_ops) is deprecated and will be removed in a future version.\n",
      "Instructions for updating:\n",
      "Use tf.where in 2.0, which has the same broadcast rule as np.where\n"
     ]
    },
    {
     "name": "stdout",
     "output_type": "stream",
     "text": [
      "WARNING:tensorflow:From C:\\Users\\magic\\envs\\ai_hw\\lib\\site-packages\\aif360\\algorithms\\inprocessing\\adversarial_debiasing.py:159: The name tf.train.exponential_decay is deprecated. Please use tf.compat.v1.train.exponential_decay instead.\n",
      "\n"
     ]
    },
    {
     "name": "stderr",
     "output_type": "stream",
     "text": [
      "WARNING:tensorflow:From C:\\Users\\magic\\envs\\ai_hw\\lib\\site-packages\\aif360\\algorithms\\inprocessing\\adversarial_debiasing.py:159: The name tf.train.exponential_decay is deprecated. Please use tf.compat.v1.train.exponential_decay instead.\n",
      "\n"
     ]
    },
    {
     "name": "stdout",
     "output_type": "stream",
     "text": [
      "WARNING:tensorflow:From C:\\Users\\magic\\envs\\ai_hw\\lib\\site-packages\\aif360\\algorithms\\inprocessing\\adversarial_debiasing.py:161: The name tf.train.AdamOptimizer is deprecated. Please use tf.compat.v1.train.AdamOptimizer instead.\n",
      "\n"
     ]
    },
    {
     "name": "stderr",
     "output_type": "stream",
     "text": [
      "WARNING:tensorflow:From C:\\Users\\magic\\envs\\ai_hw\\lib\\site-packages\\aif360\\algorithms\\inprocessing\\adversarial_debiasing.py:161: The name tf.train.AdamOptimizer is deprecated. Please use tf.compat.v1.train.AdamOptimizer instead.\n",
      "\n"
     ]
    },
    {
     "name": "stdout",
     "output_type": "stream",
     "text": [
      "WARNING:tensorflow:From C:\\Users\\magic\\envs\\ai_hw\\lib\\site-packages\\aif360\\algorithms\\inprocessing\\adversarial_debiasing.py:165: The name tf.trainable_variables is deprecated. Please use tf.compat.v1.trainable_variables instead.\n",
      "\n"
     ]
    },
    {
     "name": "stderr",
     "output_type": "stream",
     "text": [
      "WARNING:tensorflow:From C:\\Users\\magic\\envs\\ai_hw\\lib\\site-packages\\aif360\\algorithms\\inprocessing\\adversarial_debiasing.py:165: The name tf.trainable_variables is deprecated. Please use tf.compat.v1.trainable_variables instead.\n",
      "\n"
     ]
    },
    {
     "name": "stdout",
     "output_type": "stream",
     "text": [
      "WARNING:tensorflow:From C:\\Users\\magic\\envs\\ai_hw\\lib\\site-packages\\aif360\\algorithms\\inprocessing\\adversarial_debiasing.py:187: The name tf.global_variables_initializer is deprecated. Please use tf.compat.v1.global_variables_initializer instead.\n",
      "\n"
     ]
    },
    {
     "name": "stderr",
     "output_type": "stream",
     "text": [
      "WARNING:tensorflow:From C:\\Users\\magic\\envs\\ai_hw\\lib\\site-packages\\aif360\\algorithms\\inprocessing\\adversarial_debiasing.py:187: The name tf.global_variables_initializer is deprecated. Please use tf.compat.v1.global_variables_initializer instead.\n",
      "\n"
     ]
    },
    {
     "name": "stdout",
     "output_type": "stream",
     "text": [
      "WARNING:tensorflow:From C:\\Users\\magic\\envs\\ai_hw\\lib\\site-packages\\aif360\\algorithms\\inprocessing\\adversarial_debiasing.py:188: The name tf.local_variables_initializer is deprecated. Please use tf.compat.v1.local_variables_initializer instead.\n",
      "\n"
     ]
    },
    {
     "name": "stderr",
     "output_type": "stream",
     "text": [
      "WARNING:tensorflow:From C:\\Users\\magic\\envs\\ai_hw\\lib\\site-packages\\aif360\\algorithms\\inprocessing\\adversarial_debiasing.py:188: The name tf.local_variables_initializer is deprecated. Please use tf.compat.v1.local_variables_initializer instead.\n",
      "\n"
     ]
    },
    {
     "name": "stdout",
     "output_type": "stream",
     "text": [
      "epoch 0; iter: 0; batch classifier loss: 0.684168\n",
      "epoch 1; iter: 0; batch classifier loss: 0.608308\n",
      "epoch 2; iter: 0; batch classifier loss: 0.611609\n",
      "epoch 3; iter: 0; batch classifier loss: 0.640252\n",
      "epoch 4; iter: 0; batch classifier loss: 0.623939\n",
      "epoch 5; iter: 0; batch classifier loss: 0.627911\n",
      "epoch 6; iter: 0; batch classifier loss: 0.574773\n",
      "epoch 7; iter: 0; batch classifier loss: 0.607833\n",
      "epoch 8; iter: 0; batch classifier loss: 0.603530\n",
      "epoch 9; iter: 0; batch classifier loss: 0.655379\n",
      "epoch 10; iter: 0; batch classifier loss: 0.582389\n",
      "epoch 11; iter: 0; batch classifier loss: 0.632258\n",
      "epoch 12; iter: 0; batch classifier loss: 0.615264\n",
      "epoch 13; iter: 0; batch classifier loss: 0.577925\n",
      "epoch 14; iter: 0; batch classifier loss: 0.651445\n",
      "epoch 15; iter: 0; batch classifier loss: 0.627481\n",
      "epoch 16; iter: 0; batch classifier loss: 0.637197\n",
      "epoch 17; iter: 0; batch classifier loss: 0.600020\n",
      "epoch 18; iter: 0; batch classifier loss: 0.613213\n",
      "epoch 19; iter: 0; batch classifier loss: 0.622771\n",
      "epoch 20; iter: 0; batch classifier loss: 0.608521\n",
      "epoch 21; iter: 0; batch classifier loss: 0.613389\n",
      "epoch 22; iter: 0; batch classifier loss: 0.585000\n",
      "epoch 23; iter: 0; batch classifier loss: 0.593269\n",
      "epoch 24; iter: 0; batch classifier loss: 0.620230\n",
      "epoch 25; iter: 0; batch classifier loss: 0.580324\n",
      "epoch 26; iter: 0; batch classifier loss: 0.602663\n",
      "epoch 27; iter: 0; batch classifier loss: 0.641188\n",
      "epoch 28; iter: 0; batch classifier loss: 0.600016\n",
      "epoch 29; iter: 0; batch classifier loss: 0.596839\n",
      "epoch 30; iter: 0; batch classifier loss: 0.634927\n",
      "epoch 31; iter: 0; batch classifier loss: 0.571252\n",
      "epoch 32; iter: 0; batch classifier loss: 0.609722\n",
      "epoch 33; iter: 0; batch classifier loss: 0.621132\n",
      "epoch 34; iter: 0; batch classifier loss: 0.629310\n",
      "epoch 35; iter: 0; batch classifier loss: 0.567338\n",
      "epoch 36; iter: 0; batch classifier loss: 0.637305\n",
      "epoch 37; iter: 0; batch classifier loss: 0.622013\n",
      "epoch 38; iter: 0; batch classifier loss: 0.616912\n",
      "epoch 39; iter: 0; batch classifier loss: 0.658779\n",
      "epoch 40; iter: 0; batch classifier loss: 0.623725\n",
      "epoch 41; iter: 0; batch classifier loss: 0.623542\n",
      "epoch 42; iter: 0; batch classifier loss: 0.653506\n",
      "epoch 43; iter: 0; batch classifier loss: 0.593979\n",
      "epoch 44; iter: 0; batch classifier loss: 0.612778\n",
      "epoch 45; iter: 0; batch classifier loss: 0.616117\n",
      "epoch 46; iter: 0; batch classifier loss: 0.647878\n",
      "epoch 47; iter: 0; batch classifier loss: 0.635886\n",
      "epoch 48; iter: 0; batch classifier loss: 0.569968\n",
      "epoch 49; iter: 0; batch classifier loss: 0.618202\n"
     ]
    },
    {
     "data": {
      "text/plain": [
       "<aif360.algorithms.inprocessing.adversarial_debiasing.AdversarialDebiasing at 0x16c03527d88>"
      ]
     },
     "execution_count": 7,
     "metadata": {},
     "output_type": "execute_result"
    }
   ],
   "source": [
    "plain_model.fit(dataset_orig_train)"
   ]
  },
  {
   "cell_type": "code",
   "execution_count": 8,
   "metadata": {},
   "outputs": [],
   "source": [
    "# Apply the plain model to test data\n",
    "dataset_nodebiasing_train = plain_model.predict(dataset_orig_train)\n",
    "dataset_nodebiasing_test = plain_model.predict(dataset_orig_test)"
   ]
  },
  {
   "cell_type": "code",
   "execution_count": 9,
   "metadata": {},
   "outputs": [
    {
     "data": {
      "text/markdown": [
       "#### Plain model - without debiasing - dataset metrics"
      ],
      "text/plain": [
       "<IPython.core.display.Markdown object>"
      ]
     },
     "metadata": {},
     "output_type": "display_data"
    },
    {
     "name": "stdout",
     "output_type": "stream",
     "text": [
      "Train set: Difference in mean outcomes between unprivileged and privileged groups = -0.276619\n",
      "Test set: Difference in mean outcomes between unprivileged and privileged groups = -0.316127\n"
     ]
    },
    {
     "data": {
      "text/markdown": [
       "#### Plain model - without debiasing - classification metrics"
      ],
      "text/plain": [
       "<IPython.core.display.Markdown object>"
      ]
     },
     "metadata": {},
     "output_type": "display_data"
    },
    {
     "name": "stdout",
     "output_type": "stream",
     "text": [
      "Test set: Classification accuracy = 0.663510\n",
      "Test set: Balanced classification accuracy = 0.661865\n",
      "Test set: Disparate impact = 0.569165\n",
      "Test set: Equal opportunity difference = -0.239117\n",
      "Test set: Average odds difference = -0.274148\n",
      "Test set: Theil_index = 0.222004\n"
     ]
    }
   ],
   "source": [
    "# Metrics for the dataset from plain model (without debiasing)\n",
    "display(Markdown(\"#### Plain model - without debiasing - dataset metrics\"))\n",
    "metric_dataset_nodebiasing_train = BinaryLabelDatasetMetric(dataset_nodebiasing_train, \n",
    "                                             unprivileged_groups=unprivileged_groups,\n",
    "                                             privileged_groups=privileged_groups)\n",
    "\n",
    "print(\"Train set: Difference in mean outcomes between unprivileged and privileged groups = %f\" % metric_dataset_nodebiasing_train.mean_difference())\n",
    "\n",
    "metric_dataset_nodebiasing_test = BinaryLabelDatasetMetric(dataset_nodebiasing_test, \n",
    "                                             unprivileged_groups=unprivileged_groups,\n",
    "                                             privileged_groups=privileged_groups)\n",
    "\n",
    "print(\"Test set: Difference in mean outcomes between unprivileged and privileged groups = %f\" % metric_dataset_nodebiasing_test.mean_difference())\n",
    "\n",
    "display(Markdown(\"#### Plain model - without debiasing - classification metrics\"))\n",
    "classified_metric_nodebiasing_test = ClassificationMetric(dataset_orig_test, \n",
    "                                                 dataset_nodebiasing_test,\n",
    "                                                 unprivileged_groups=unprivileged_groups,\n",
    "                                                 privileged_groups=privileged_groups)\n",
    "print(\"Test set: Classification accuracy = %f\" % classified_metric_nodebiasing_test.accuracy())\n",
    "TPR = classified_metric_nodebiasing_test.true_positive_rate()\n",
    "TNR = classified_metric_nodebiasing_test.true_negative_rate()\n",
    "bal_acc_nodebiasing_test = 0.5*(TPR+TNR)\n",
    "print(\"Test set: Balanced classification accuracy = %f\" % bal_acc_nodebiasing_test)\n",
    "print(\"Test set: Disparate impact = %f\" % classified_metric_nodebiasing_test.disparate_impact())\n",
    "print(\"Test set: Equal opportunity difference = %f\" % classified_metric_nodebiasing_test.equal_opportunity_difference())\n",
    "print(\"Test set: Average odds difference = %f\" % classified_metric_nodebiasing_test.average_odds_difference())\n",
    "print(\"Test set: Theil_index = %f\" % classified_metric_nodebiasing_test.theil_index())"
   ]
  },
  {
   "cell_type": "markdown",
   "metadata": {},
   "source": [
    "### Apply in-processing algorithm based on adversarial learning"
   ]
  },
  {
   "cell_type": "code",
   "execution_count": 10,
   "metadata": {},
   "outputs": [],
   "source": [
    "sess.close()\n",
    "tf.reset_default_graph()\n",
    "sess = tf.Session()"
   ]
  },
  {
   "cell_type": "code",
   "execution_count": 11,
   "metadata": {},
   "outputs": [],
   "source": [
    "# Learn parameters with debias set to True\n",
    "debiased_model = AdversarialDebiasing(privileged_groups = privileged_groups,\n",
    "                          unprivileged_groups = unprivileged_groups,\n",
    "                          scope_name='debiased_classifier',\n",
    "                          debias=True,\n",
    "                          sess=sess)"
   ]
  },
  {
   "cell_type": "code",
   "execution_count": 12,
   "metadata": {
    "scrolled": true
   },
   "outputs": [
    {
     "name": "stdout",
     "output_type": "stream",
     "text": [
      "epoch 0; iter: 0; batch classifier loss: 0.703168; batch adversarial loss: 0.669052\n",
      "epoch 1; iter: 0; batch classifier loss: 0.646124; batch adversarial loss: 0.748332\n",
      "epoch 2; iter: 0; batch classifier loss: 0.609377; batch adversarial loss: 0.707010\n",
      "epoch 3; iter: 0; batch classifier loss: 0.657006; batch adversarial loss: 0.717971\n",
      "epoch 4; iter: 0; batch classifier loss: 0.571190; batch adversarial loss: 0.802511\n",
      "epoch 5; iter: 0; batch classifier loss: 0.632424; batch adversarial loss: 0.715856\n",
      "epoch 6; iter: 0; batch classifier loss: 0.597593; batch adversarial loss: 0.718107\n",
      "epoch 7; iter: 0; batch classifier loss: 0.647844; batch adversarial loss: 0.729992\n",
      "epoch 8; iter: 0; batch classifier loss: 0.681756; batch adversarial loss: 0.730152\n",
      "epoch 9; iter: 0; batch classifier loss: 0.608288; batch adversarial loss: 0.713722\n",
      "epoch 10; iter: 0; batch classifier loss: 0.539259; batch adversarial loss: 0.712572\n",
      "epoch 11; iter: 0; batch classifier loss: 0.595898; batch adversarial loss: 0.769730\n",
      "epoch 12; iter: 0; batch classifier loss: 0.593634; batch adversarial loss: 0.715211\n",
      "epoch 13; iter: 0; batch classifier loss: 0.616068; batch adversarial loss: 0.729378\n",
      "epoch 14; iter: 0; batch classifier loss: 0.653503; batch adversarial loss: 0.703339\n",
      "epoch 15; iter: 0; batch classifier loss: 0.640859; batch adversarial loss: 0.692766\n",
      "epoch 16; iter: 0; batch classifier loss: 0.584977; batch adversarial loss: 0.703175\n",
      "epoch 17; iter: 0; batch classifier loss: 0.640336; batch adversarial loss: 0.682147\n",
      "epoch 18; iter: 0; batch classifier loss: 0.657465; batch adversarial loss: 0.679648\n",
      "epoch 19; iter: 0; batch classifier loss: 0.600574; batch adversarial loss: 0.677639\n",
      "epoch 20; iter: 0; batch classifier loss: 0.621825; batch adversarial loss: 0.693147\n",
      "epoch 21; iter: 0; batch classifier loss: 0.600342; batch adversarial loss: 0.667232\n",
      "epoch 22; iter: 0; batch classifier loss: 0.638052; batch adversarial loss: 0.691529\n",
      "epoch 23; iter: 0; batch classifier loss: 0.630462; batch adversarial loss: 0.669135\n",
      "epoch 24; iter: 0; batch classifier loss: 0.601881; batch adversarial loss: 0.671827\n",
      "epoch 25; iter: 0; batch classifier loss: 0.625252; batch adversarial loss: 0.662236\n",
      "epoch 26; iter: 0; batch classifier loss: 0.630683; batch adversarial loss: 0.663925\n",
      "epoch 27; iter: 0; batch classifier loss: 0.646269; batch adversarial loss: 0.684319\n",
      "epoch 28; iter: 0; batch classifier loss: 0.621755; batch adversarial loss: 0.662225\n",
      "epoch 29; iter: 0; batch classifier loss: 0.670159; batch adversarial loss: 0.657389\n",
      "epoch 30; iter: 0; batch classifier loss: 0.602629; batch adversarial loss: 0.678967\n",
      "epoch 31; iter: 0; batch classifier loss: 0.584749; batch adversarial loss: 0.652215\n",
      "epoch 32; iter: 0; batch classifier loss: 0.565037; batch adversarial loss: 0.661431\n",
      "epoch 33; iter: 0; batch classifier loss: 0.615773; batch adversarial loss: 0.702564\n",
      "epoch 34; iter: 0; batch classifier loss: 0.592670; batch adversarial loss: 0.701219\n",
      "epoch 35; iter: 0; batch classifier loss: 0.588116; batch adversarial loss: 0.662551\n",
      "epoch 36; iter: 0; batch classifier loss: 0.626379; batch adversarial loss: 0.654338\n",
      "epoch 37; iter: 0; batch classifier loss: 0.633671; batch adversarial loss: 0.664150\n",
      "epoch 38; iter: 0; batch classifier loss: 0.639434; batch adversarial loss: 0.655762\n",
      "epoch 39; iter: 0; batch classifier loss: 0.606465; batch adversarial loss: 0.651615\n",
      "epoch 40; iter: 0; batch classifier loss: 0.624927; batch adversarial loss: 0.679353\n",
      "epoch 41; iter: 0; batch classifier loss: 0.573585; batch adversarial loss: 0.658080\n",
      "epoch 42; iter: 0; batch classifier loss: 0.615078; batch adversarial loss: 0.655839\n",
      "epoch 43; iter: 0; batch classifier loss: 0.631843; batch adversarial loss: 0.655449\n",
      "epoch 44; iter: 0; batch classifier loss: 0.613575; batch adversarial loss: 0.665025\n",
      "epoch 45; iter: 0; batch classifier loss: 0.633863; batch adversarial loss: 0.688251\n",
      "epoch 46; iter: 0; batch classifier loss: 0.631971; batch adversarial loss: 0.659942\n",
      "epoch 47; iter: 0; batch classifier loss: 0.661278; batch adversarial loss: 0.665904\n",
      "epoch 48; iter: 0; batch classifier loss: 0.600066; batch adversarial loss: 0.679425\n",
      "epoch 49; iter: 0; batch classifier loss: 0.618932; batch adversarial loss: 0.703084\n"
     ]
    },
    {
     "data": {
      "text/plain": [
       "<aif360.algorithms.inprocessing.adversarial_debiasing.AdversarialDebiasing at 0x16c0352a788>"
      ]
     },
     "execution_count": 12,
     "metadata": {},
     "output_type": "execute_result"
    }
   ],
   "source": [
    "debiased_model.fit(dataset_orig_train)"
   ]
  },
  {
   "cell_type": "code",
   "execution_count": 13,
   "metadata": {},
   "outputs": [],
   "source": [
    "# Apply the plain model to test data\n",
    "dataset_debiasing_train = debiased_model.predict(dataset_orig_train)\n",
    "dataset_debiasing_test = debiased_model.predict(dataset_orig_test)"
   ]
  },
  {
   "cell_type": "code",
   "execution_count": 14,
   "metadata": {},
   "outputs": [
    {
     "data": {
      "text/markdown": [
       "#### Plain model - without debiasing - dataset metrics"
      ],
      "text/plain": [
       "<IPython.core.display.Markdown object>"
      ]
     },
     "metadata": {},
     "output_type": "display_data"
    },
    {
     "name": "stdout",
     "output_type": "stream",
     "text": [
      "Train set: Difference in mean outcomes between unprivileged and privileged groups = -0.276619\n",
      "Test set: Difference in mean outcomes between unprivileged and privileged groups = -0.316127\n"
     ]
    },
    {
     "data": {
      "text/markdown": [
       "#### Model - with debiasing - dataset metrics"
      ],
      "text/plain": [
       "<IPython.core.display.Markdown object>"
      ]
     },
     "metadata": {},
     "output_type": "display_data"
    },
    {
     "name": "stdout",
     "output_type": "stream",
     "text": [
      "Train set: Difference in mean outcomes between unprivileged and privileged groups = -0.002091\n",
      "Test set: Difference in mean outcomes between unprivileged and privileged groups = -0.036912\n"
     ]
    },
    {
     "data": {
      "text/markdown": [
       "#### Plain model - without debiasing - classification metrics"
      ],
      "text/plain": [
       "<IPython.core.display.Markdown object>"
      ]
     },
     "metadata": {},
     "output_type": "display_data"
    },
    {
     "name": "stdout",
     "output_type": "stream",
     "text": [
      "Test set: Classification accuracy = 0.663510\n",
      "Test set: Balanced classification accuracy = 0.661865\n",
      "Test set: Disparate impact = 0.569165\n",
      "Test set: Equal opportunity difference = -0.239117\n",
      "Test set: Average odds difference = -0.274148\n",
      "Test set: Theil_index = 0.222004\n"
     ]
    },
    {
     "data": {
      "text/markdown": [
       "#### Model - with debiasing - classification metrics"
      ],
      "text/plain": [
       "<IPython.core.display.Markdown object>"
      ]
     },
     "metadata": {},
     "output_type": "display_data"
    },
    {
     "name": "stdout",
     "output_type": "stream",
     "text": [
      "Test set: Classification accuracy = 0.654672\n",
      "Test set: Balanced classification accuracy = 0.653008\n",
      "Test set: Disparate impact = 0.934757\n",
      "Test set: Equal opportunity difference = 0.059727\n",
      "Test set: Average odds difference = 0.007470\n",
      "Test set: Theil_index = 0.228005\n"
     ]
    }
   ],
   "source": [
    "# Metrics for the dataset from plain model (without debiasing)\n",
    "display(Markdown(\"#### Plain model - without debiasing - dataset metrics\"))\n",
    "print(\"Train set: Difference in mean outcomes between unprivileged and privileged groups = %f\" % metric_dataset_nodebiasing_train.mean_difference())\n",
    "print(\"Test set: Difference in mean outcomes between unprivileged and privileged groups = %f\" % metric_dataset_nodebiasing_test.mean_difference())\n",
    "\n",
    "# Metrics for the dataset from model with debiasing\n",
    "display(Markdown(\"#### Model - with debiasing - dataset metrics\"))\n",
    "metric_dataset_debiasing_train = BinaryLabelDatasetMetric(dataset_debiasing_train, \n",
    "                                             unprivileged_groups=unprivileged_groups,\n",
    "                                             privileged_groups=privileged_groups)\n",
    "\n",
    "print(\"Train set: Difference in mean outcomes between unprivileged and privileged groups = %f\" % metric_dataset_debiasing_train.mean_difference())\n",
    "\n",
    "metric_dataset_debiasing_test = BinaryLabelDatasetMetric(dataset_debiasing_test, \n",
    "                                             unprivileged_groups=unprivileged_groups,\n",
    "                                             privileged_groups=privileged_groups)\n",
    "\n",
    "print(\"Test set: Difference in mean outcomes between unprivileged and privileged groups = %f\" % metric_dataset_debiasing_test.mean_difference())\n",
    "\n",
    "\n",
    "\n",
    "display(Markdown(\"#### Plain model - without debiasing - classification metrics\"))\n",
    "print(\"Test set: Classification accuracy = %f\" % classified_metric_nodebiasing_test.accuracy())\n",
    "TPR = classified_metric_nodebiasing_test.true_positive_rate()\n",
    "TNR = classified_metric_nodebiasing_test.true_negative_rate()\n",
    "bal_acc_nodebiasing_test = 0.5*(TPR+TNR)\n",
    "print(\"Test set: Balanced classification accuracy = %f\" % bal_acc_nodebiasing_test)\n",
    "print(\"Test set: Disparate impact = %f\" % classified_metric_nodebiasing_test.disparate_impact())\n",
    "print(\"Test set: Equal opportunity difference = %f\" % classified_metric_nodebiasing_test.equal_opportunity_difference())\n",
    "print(\"Test set: Average odds difference = %f\" % classified_metric_nodebiasing_test.average_odds_difference())\n",
    "print(\"Test set: Theil_index = %f\" % classified_metric_nodebiasing_test.theil_index())\n",
    "\n",
    "\n",
    "\n",
    "display(Markdown(\"#### Model - with debiasing - classification metrics\"))\n",
    "classified_metric_debiasing_test = ClassificationMetric(dataset_orig_test, \n",
    "                                                 dataset_debiasing_test,\n",
    "                                                 unprivileged_groups=unprivileged_groups,\n",
    "                                                 privileged_groups=privileged_groups)\n",
    "print(\"Test set: Classification accuracy = %f\" % classified_metric_debiasing_test.accuracy())\n",
    "TPR = classified_metric_debiasing_test.true_positive_rate()\n",
    "TNR = classified_metric_debiasing_test.true_negative_rate()\n",
    "bal_acc_debiasing_test = 0.5*(TPR+TNR)\n",
    "print(\"Test set: Balanced classification accuracy = %f\" % bal_acc_debiasing_test)\n",
    "print(\"Test set: Disparate impact = %f\" % classified_metric_debiasing_test.disparate_impact())\n",
    "print(\"Test set: Equal opportunity difference = %f\" % classified_metric_debiasing_test.equal_opportunity_difference())\n",
    "print(\"Test set: Average odds difference = %f\" % classified_metric_debiasing_test.average_odds_difference())\n",
    "print(\"Test set: Theil_index = %f\" % classified_metric_debiasing_test.theil_index())"
   ]
  },
  {
   "cell_type": "code",
   "execution_count": 17,
   "metadata": {},
   "outputs": [
    {
     "data": {
      "image/png": "[encoded data removed]",
      "text/plain": [
       "<Figure size 2592x576 with 4 Axes>"
      ]
     },
     "metadata": {},
     "output_type": "display_data"
    }
   ],
   "source": [
    "def plot_metrics(metrics_before, metrics_after, \n",
    "                 sensitive_attr='Race',\n",
    "                 mitigation='Adversarial De-biasing', dataset='Compas'):\n",
    "    total = 4; cols = 4\n",
    "    rows = total //cols; rows += total % cols\n",
    "    pos = range(1, total+1)\n",
    "    \n",
    "    # Plot styles\n",
    "    plt.style.use('ggplot')\n",
    "    options = {'font.size': 18,\n",
    "           'figure.titlesize': 30}\n",
    "    plt.rcParams.update(options)\n",
    "    \n",
    "    fig = plt.figure(figsize=(36,rows*8))\n",
    "    x_pos = [1,2]\n",
    "    kwargs = {\n",
    "        'color': ['grey', 'teal'],\n",
    "        'tick_label': ['Before mitigation', 'After mitigation']\n",
    "    }\n",
    "    \n",
    "    i = 0; subplot_pad=20\n",
    "    ax = fig.add_subplot(rows, cols, pos[i])\n",
    "    ax.set_title('Classification Accuracy Difference', pad=subplot_pad)\n",
    "    ax.bar(x_pos, [metrics_before.accuracy(), metrics_after.accuracy()],\n",
    "                  **kwargs)\n",
    "\n",
    "    metrics = {'Demographic Parity Difference': 'mean_difference',\n",
    "               'Disparate Impact': 'disparate_impact',\n",
    "               'Equal Opportunity Difference': 'equal_opportunity_difference'}\n",
    "    \n",
    "    for title, methodname in  metrics.items():\n",
    "        i += 1;\n",
    "        ax = fig.add_subplot(rows, cols, pos[i])\n",
    "        ax.set_title(title, pad=subplot_pad)\n",
    "        ax.set_ylim([-0.5,1])\n",
    "        ax.bar(x_pos, \n",
    "                     [getattr(metrics_before, methodname)(), getattr(metrics_after, methodname)()],\n",
    "                     **kwargs)\n",
    "        \n",
    "    fig.subplots_adjust(bottom=0.2)\n",
    "    title = 'Impact of {} on {} dataset - {}'.format(mitigation, dataset, sensitive_attr)\n",
    "    fig.suptitle(title, y=0.08)\n",
    "    fig.savefig('figures/'+title+'.png')\n",
    "    plt.show()\n",
    "\n",
    "plot_metrics(classified_metric_nodebiasing_test, classified_metric_debiasing_test)"
   ]
  },
  {
   "cell_type": "markdown",
   "metadata": {},
   "source": [
    "\n",
    "    References:\n",
    "    [1] B. H. Zhang, B. Lemoine, and M. Mitchell, \"Mitigating UnwantedBiases with Adversarial Learning,\" \n",
    "    AAAI/ACM Conference on Artificial Intelligence, Ethics, and Society, 2018."
   ]
  },
  {
   "cell_type": "code",
   "execution_count": null,
   "metadata": {},
   "outputs": [],
   "source": []
  }
 ],
 "metadata": {
  "kernelspec": {
   "display_name": "Python 3.7.4 64-bit ('ai_hw': virtualenv)",
   "language": "python",
   "name": "python37464bitaihwvirtualenvdb766f6d2a3a4d93976d81db9b668609"
  },
  "language_info": {
   "codemirror_mode": {
    "name": "ipython",
    "version": 3
   },
   "file_extension": ".py",
   "mimetype": "text/x-python",
   "name": "python",
   "nbconvert_exporter": "python",
   "pygments_lexer": "ipython3",
   "version": "3.7.4"
  }
 },
 "nbformat": 4,
 "nbformat_minor": 2
}
