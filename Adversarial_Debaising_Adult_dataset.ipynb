{
  "nbformat": 4,
  "nbformat_minor": 0,
  "metadata": {
    "colab": {
      "name": "Adversarial_Debaising_Adult_dataset.ipynb",
      "provenance": [],
      "collapsed_sections": []
    },
    "kernelspec": {
      "name": "python3",
      "display_name": "Python 3"
    }
  },
  "cells": [
    {
      "cell_type": "markdown",
      "metadata": {
        "id": "LVGlA3EGhJf2"
      },
      "source": [
        "**Adversarial debaising for Adult dataset**"
      ]
    },
    {
      "cell_type": "code",
      "metadata": {
        "colab": {
          "base_uri": "https://localhost:8080/"
        },
        "id": "nbYANydNdJco",
        "outputId": "3b7b78d9-31e9-424e-fa8f-6d6286a78a44"
      },
      "source": [
        "!pip install aif360==0.3.0rc0"
      ],
      "execution_count": 1,
      "outputs": [
        {
          "output_type": "stream",
          "text": [
            "Requirement already satisfied: aif360==0.3.0rc0 in /usr/local/lib/python3.6/dist-packages (0.3.0rc0)\n",
            "Requirement already satisfied: numpy>=1.16 in /usr/local/lib/python3.6/dist-packages (from aif360==0.3.0rc0) (1.18.5)\n",
            "Requirement already satisfied: matplotlib in /usr/local/lib/python3.6/dist-packages (from aif360==0.3.0rc0) (3.2.2)\n",
            "Requirement already satisfied: scipy>=1.2.0 in /usr/local/lib/python3.6/dist-packages (from aif360==0.3.0rc0) (1.4.1)\n",
            "Requirement already satisfied: scikit-learn>=0.21 in /usr/local/lib/python3.6/dist-packages (from aif360==0.3.0rc0) (0.22.2.post1)\n",
            "Requirement already satisfied: pandas>=0.24.0 in /usr/local/lib/python3.6/dist-packages (from aif360==0.3.0rc0) (1.1.5)\n",
            "Requirement already satisfied: pyparsing!=2.0.4,!=2.1.2,!=2.1.6,>=2.0.1 in /usr/local/lib/python3.6/dist-packages (from matplotlib->aif360==0.3.0rc0) (2.4.7)\n",
            "Requirement already satisfied: cycler>=0.10 in /usr/local/lib/python3.6/dist-packages (from matplotlib->aif360==0.3.0rc0) (0.10.0)\n",
            "Requirement already satisfied: python-dateutil>=2.1 in /usr/local/lib/python3.6/dist-packages (from matplotlib->aif360==0.3.0rc0) (2.8.1)\n",
            "Requirement already satisfied: kiwisolver>=1.0.1 in /usr/local/lib/python3.6/dist-packages (from matplotlib->aif360==0.3.0rc0) (1.3.1)\n",
            "Requirement already satisfied: joblib>=0.11 in /usr/local/lib/python3.6/dist-packages (from scikit-learn>=0.21->aif360==0.3.0rc0) (0.17.0)\n",
            "Requirement already satisfied: pytz>=2017.2 in /usr/local/lib/python3.6/dist-packages (from pandas>=0.24.0->aif360==0.3.0rc0) (2018.9)\n",
            "Requirement already satisfied: six in /usr/local/lib/python3.6/dist-packages (from cycler>=0.10->matplotlib->aif360==0.3.0rc0) (1.15.0)\n"
          ],
          "name": "stdout"
        }
      ]
    },
    {
      "cell_type": "code",
      "metadata": {
        "colab": {
          "base_uri": "https://localhost:8080/"
        },
        "id": "oAAXbWk5dBeE",
        "outputId": "17d892bf-cc66-4b43-96df-e18e430e1da1"
      },
      "source": [
        "%matplotlib inline\n",
        "# Load all necessary packages\n",
        "import sys\n",
        "sys.path.append(\"../\")\n",
        "from aif360.datasets import BinaryLabelDataset\n",
        "from aif360.datasets import AdultDataset, GermanDataset, CompasDataset\n",
        "from aif360.metrics import BinaryLabelDatasetMetric\n",
        "from aif360.metrics import ClassificationMetric\n",
        "from aif360.metrics.utils import compute_boolean_conditioning_vector\n",
        "\n",
        "from aif360.algorithms.preprocessing.optim_preproc_helpers.data_preproc_functions import load_preproc_data_adult, load_preproc_data_compas, load_preproc_data_german\n",
        "\n",
        "from aif360.algorithms.inprocessing.adversarial_debiasing import AdversarialDebiasing\n",
        "\n",
        "from sklearn.linear_model import LogisticRegression\n",
        "from sklearn.preprocessing import StandardScaler, MaxAbsScaler\n",
        "from sklearn.metrics import accuracy_score\n",
        "\n",
        "from IPython.display import Markdown, display\n",
        "import matplotlib.pyplot as plt\n",
        "\n",
        "import tensorflow as tf"
      ],
      "execution_count": 2,
      "outputs": [
        {
          "output_type": "stream",
          "text": [
            "Matplotlib Error, comment out matplotlib.use('TkAgg')\n"
          ],
          "name": "stdout"
        }
      ]
    },
    {
      "cell_type": "code",
      "metadata": {
        "id": "X6TzLH-ldDfk"
      },
      "source": [
        "# Get the dataset and split into train and test\n",
        "dataset_orig = load_preproc_data_adult()\n",
        "\n",
        "privileged_groups = [{'sex': 1}]\n",
        "unprivileged_groups = [{'sex': 0}]\n",
        "\n",
        "dataset_orig_train, dataset_orig_test = dataset_orig.split([0.7], shuffle=True)"
      ],
      "execution_count": 3,
      "outputs": []
    },
    {
      "cell_type": "code",
      "metadata": {
        "colab": {
          "base_uri": "https://localhost:8080/",
          "height": 320
        },
        "id": "B5p9Iyuod2fM",
        "outputId": "ae8b9333-6e7a-47fb-d4b4-e6c7999fd0ad"
      },
      "source": [
        "# print out some labels, names, etc.\n",
        "display(Markdown(\"#### Training Dataset shape\"))\n",
        "print(dataset_orig_train.features.shape)\n",
        "display(Markdown(\"#### Favorable and unfavorable labels\"))\n",
        "print(dataset_orig_train.favorable_label, dataset_orig_train.unfavorable_label)\n",
        "display(Markdown(\"#### Protected attribute names\"))\n",
        "print(dataset_orig_train.protected_attribute_names)\n",
        "display(Markdown(\"#### Privileged and unprivileged protected attribute values\"))\n",
        "print(dataset_orig_train.privileged_protected_attributes, \n",
        "      dataset_orig_train.unprivileged_protected_attributes)\n",
        "display(Markdown(\"#### Dataset feature names\"))\n",
        "print(dataset_orig_train.feature_names)"
      ],
      "execution_count": 4,
      "outputs": [
        {
          "output_type": "display_data",
          "data": {
            "text/markdown": "#### Training Dataset shape",
            "text/plain": [
              "<IPython.core.display.Markdown object>"
            ]
          },
          "metadata": {
            "tags": []
          }
        },
        {
          "output_type": "stream",
          "text": [
            "(34189, 18)\n"
          ],
          "name": "stdout"
        },
        {
          "output_type": "display_data",
          "data": {
            "text/markdown": "#### Favorable and unfavorable labels",
            "text/plain": [
              "<IPython.core.display.Markdown object>"
            ]
          },
          "metadata": {
            "tags": []
          }
        },
        {
          "output_type": "stream",
          "text": [
            "1.0 0.0\n"
          ],
          "name": "stdout"
        },
        {
          "output_type": "display_data",
          "data": {
            "text/markdown": "#### Protected attribute names",
            "text/plain": [
              "<IPython.core.display.Markdown object>"
            ]
          },
          "metadata": {
            "tags": []
          }
        },
        {
          "output_type": "stream",
          "text": [
            "['sex', 'race']\n"
          ],
          "name": "stdout"
        },
        {
          "output_type": "display_data",
          "data": {
            "text/markdown": "#### Privileged and unprivileged protected attribute values",
            "text/plain": [
              "<IPython.core.display.Markdown object>"
            ]
          },
          "metadata": {
            "tags": []
          }
        },
        {
          "output_type": "stream",
          "text": [
            "[array([1.]), array([1.])] [array([0.]), array([0.])]\n"
          ],
          "name": "stdout"
        },
        {
          "output_type": "display_data",
          "data": {
            "text/markdown": "#### Dataset feature names",
            "text/plain": [
              "<IPython.core.display.Markdown object>"
            ]
          },
          "metadata": {
            "tags": []
          }
        },
        {
          "output_type": "stream",
          "text": [
            "['race', 'sex', 'Age (decade)=10', 'Age (decade)=20', 'Age (decade)=30', 'Age (decade)=40', 'Age (decade)=50', 'Age (decade)=60', 'Age (decade)=>=70', 'Education Years=6', 'Education Years=7', 'Education Years=8', 'Education Years=9', 'Education Years=10', 'Education Years=11', 'Education Years=12', 'Education Years=<6', 'Education Years=>12']\n"
          ],
          "name": "stdout"
        }
      ]
    },
    {
      "cell_type": "code",
      "metadata": {
        "colab": {
          "base_uri": "https://localhost:8080/",
          "height": 91
        },
        "id": "gsmUCuvId5-f",
        "outputId": "9f48a4dc-9234-4f80-b148-2ad26ceb42cc"
      },
      "source": [
        "# Metric for the original dataset\n",
        "metric_orig_train = BinaryLabelDatasetMetric(dataset_orig_train, \n",
        "                                             unprivileged_groups=unprivileged_groups,\n",
        "                                             privileged_groups=privileged_groups)\n",
        "display(Markdown(\"#### Original training dataset\"))\n",
        "print(\"Train set: Difference in mean outcomes between unprivileged and privileged groups = %f\" % metric_orig_train.mean_difference())\n",
        "metric_orig_test = BinaryLabelDatasetMetric(dataset_orig_test, \n",
        "                                             unprivileged_groups=unprivileged_groups,\n",
        "                                             privileged_groups=privileged_groups)\n",
        "print(\"Test set: Difference in mean outcomes between unprivileged and privileged groups = %f\" % metric_orig_test.mean_difference())"
      ],
      "execution_count": 5,
      "outputs": [
        {
          "output_type": "display_data",
          "data": {
            "text/markdown": "#### Original training dataset",
            "text/plain": [
              "<IPython.core.display.Markdown object>"
            ]
          },
          "metadata": {
            "tags": []
          }
        },
        {
          "output_type": "stream",
          "text": [
            "Train set: Difference in mean outcomes between unprivileged and privileged groups = -0.195566\n",
            "Test set: Difference in mean outcomes between unprivileged and privileged groups = -0.192082\n"
          ],
          "name": "stdout"
        }
      ]
    },
    {
      "cell_type": "code",
      "metadata": {
        "colab": {
          "base_uri": "https://localhost:8080/",
          "height": 91
        },
        "id": "dghlkbZbeCYj",
        "outputId": "8a093efc-b9e4-4b53-bcd9-5937f069b744"
      },
      "source": [
        "min_max_scaler = MaxAbsScaler()\n",
        "dataset_orig_train.features = min_max_scaler.fit_transform(dataset_orig_train.features)\n",
        "dataset_orig_test.features = min_max_scaler.transform(dataset_orig_test.features)\n",
        "metric_scaled_train = BinaryLabelDatasetMetric(dataset_orig_train, \n",
        "                             unprivileged_groups=unprivileged_groups,\n",
        "                             privileged_groups=privileged_groups)\n",
        "display(Markdown(\"#### Scaled dataset - Verify that the scaling does not affect the group label statistics\"))\n",
        "print(\"Train set: Difference in mean outcomes between unprivileged and privileged groups = %f\" % metric_scaled_train.mean_difference())\n",
        "metric_scaled_test = BinaryLabelDatasetMetric(dataset_orig_test, \n",
        "                             unprivileged_groups=unprivileged_groups,\n",
        "                             privileged_groups=privileged_groups)\n",
        "print(\"Test set: Difference in mean outcomes between unprivileged and privileged groups = %f\" % metric_scaled_test.mean_difference())"
      ],
      "execution_count": 6,
      "outputs": [
        {
          "output_type": "display_data",
          "data": {
            "text/markdown": "#### Scaled dataset - Verify that the scaling does not affect the group label statistics",
            "text/plain": [
              "<IPython.core.display.Markdown object>"
            ]
          },
          "metadata": {
            "tags": []
          }
        },
        {
          "output_type": "stream",
          "text": [
            "Train set: Difference in mean outcomes between unprivileged and privileged groups = -0.195566\n",
            "Test set: Difference in mean outcomes between unprivileged and privileged groups = -0.192082\n"
          ],
          "name": "stdout"
        }
      ]
    },
    {
      "cell_type": "code",
      "metadata": {
        "colab": {
          "base_uri": "https://localhost:8080/"
        },
        "id": "HEYSaFXceHZd",
        "outputId": "83f9e553-8ae2-4cf3-ce7a-653f9ffed872"
      },
      "source": [
        "# Learn parameters with debias set to False\n",
        "import tensorflow.compat.v1 as tf\n",
        "tf.disable_v2_behavior()\n",
        "sess = tf.Session()\n",
        "plain_model = AdversarialDebiasing(privileged_groups = privileged_groups,\n",
        "                          unprivileged_groups = unprivileged_groups,\n",
        "                          scope_name='plain_classifier',\n",
        "                          debias=False,\n",
        "                          sess=sess)"
      ],
      "execution_count": 7,
      "outputs": [
        {
          "output_type": "stream",
          "text": [
            "WARNING:tensorflow:From /usr/local/lib/python3.6/dist-packages/tensorflow_core/python/compat/v2_compat.py:68: disable_resource_variables (from tensorflow.python.ops.variable_scope) is deprecated and will be removed in a future version.\n",
            "Instructions for updating:\n",
            "non-resource variables are not supported in the long term\n"
          ],
          "name": "stdout"
        }
      ]
    },
    {
      "cell_type": "code",
      "metadata": {
        "colab": {
          "base_uri": "https://localhost:8080/",
          "height": 1000
        },
        "id": "lpAg9WZ8e1de",
        "outputId": "97b79605-46b8-4aea-adea-2f14ccdfa4fa"
      },
      "source": [
        "!pip install tensorflow==1.15"
      ],
      "execution_count": 10,
      "outputs": [
        {
          "output_type": "stream",
          "text": [
            "Collecting tensorflow==1.15\n",
            "\u001b[?25l  Downloading https://files.pythonhosted.org/packages/3f/98/5a99af92fb911d7a88a0005ad55005f35b4c1ba8d75fba02df726cd936e6/tensorflow-1.15.0-cp36-cp36m-manylinux2010_x86_64.whl (412.3MB)\n",
            "\u001b[K     |████████████████████████████████| 412.3MB 42kB/s \n",
            "\u001b[?25hRequirement already satisfied: opt-einsum>=2.3.2 in /usr/local/lib/python3.6/dist-packages (from tensorflow==1.15) (3.3.0)\n",
            "Collecting keras-applications>=1.0.8\n",
            "\u001b[?25l  Downloading https://files.pythonhosted.org/packages/71/e3/19762fdfc62877ae9102edf6342d71b28fbfd9dea3d2f96a882ce099b03f/Keras_Applications-1.0.8-py3-none-any.whl (50kB)\n",
            "\u001b[K     |████████████████████████████████| 51kB 5.4MB/s \n",
            "\u001b[?25hRequirement already satisfied: absl-py>=0.7.0 in /usr/local/lib/python3.6/dist-packages (from tensorflow==1.15) (0.10.0)\n",
            "Requirement already satisfied: keras-preprocessing>=1.0.5 in /usr/local/lib/python3.6/dist-packages (from tensorflow==1.15) (1.1.2)\n",
            "Requirement already satisfied: protobuf>=3.6.1 in /usr/local/lib/python3.6/dist-packages (from tensorflow==1.15) (3.12.4)\n",
            "Collecting tensorboard<1.16.0,>=1.15.0\n",
            "\u001b[?25l  Downloading https://files.pythonhosted.org/packages/1e/e9/d3d747a97f7188f48aa5eda486907f3b345cd409f0a0850468ba867db246/tensorboard-1.15.0-py3-none-any.whl (3.8MB)\n",
            "\u001b[K     |████████████████████████████████| 3.8MB 53.5MB/s \n",
            "\u001b[?25hRequirement already satisfied: wrapt>=1.11.1 in /usr/local/lib/python3.6/dist-packages (from tensorflow==1.15) (1.12.1)\n",
            "Requirement already satisfied: wheel>=0.26 in /usr/local/lib/python3.6/dist-packages (from tensorflow==1.15) (0.36.1)\n",
            "Requirement already satisfied: six>=1.10.0 in /usr/local/lib/python3.6/dist-packages (from tensorflow==1.15) (1.15.0)\n",
            "Collecting gast==0.2.2\n",
            "  Downloading https://files.pythonhosted.org/packages/4e/35/11749bf99b2d4e3cceb4d55ca22590b0d7c2c62b9de38ac4a4a7f4687421/gast-0.2.2.tar.gz\n",
            "Requirement already satisfied: google-pasta>=0.1.6 in /usr/local/lib/python3.6/dist-packages (from tensorflow==1.15) (0.2.0)\n",
            "Requirement already satisfied: astor>=0.6.0 in /usr/local/lib/python3.6/dist-packages (from tensorflow==1.15) (0.8.1)\n",
            "Requirement already satisfied: numpy<2.0,>=1.16.0 in /usr/local/lib/python3.6/dist-packages (from tensorflow==1.15) (1.18.5)\n",
            "Requirement already satisfied: grpcio>=1.8.6 in /usr/local/lib/python3.6/dist-packages (from tensorflow==1.15) (1.34.0)\n",
            "Collecting tensorflow-estimator==1.15.1\n",
            "\u001b[?25l  Downloading https://files.pythonhosted.org/packages/de/62/2ee9cd74c9fa2fa450877847ba560b260f5d0fb70ee0595203082dafcc9d/tensorflow_estimator-1.15.1-py2.py3-none-any.whl (503kB)\n",
            "\u001b[K     |████████████████████████████████| 512kB 51.3MB/s \n",
            "\u001b[?25hRequirement already satisfied: termcolor>=1.1.0 in /usr/local/lib/python3.6/dist-packages (from tensorflow==1.15) (1.1.0)\n",
            "Requirement already satisfied: h5py in /usr/local/lib/python3.6/dist-packages (from keras-applications>=1.0.8->tensorflow==1.15) (2.10.0)\n",
            "Requirement already satisfied: setuptools in /usr/local/lib/python3.6/dist-packages (from protobuf>=3.6.1->tensorflow==1.15) (50.3.2)\n",
            "Requirement already satisfied: werkzeug>=0.11.15 in /usr/local/lib/python3.6/dist-packages (from tensorboard<1.16.0,>=1.15.0->tensorflow==1.15) (1.0.1)\n",
            "Requirement already satisfied: markdown>=2.6.8 in /usr/local/lib/python3.6/dist-packages (from tensorboard<1.16.0,>=1.15.0->tensorflow==1.15) (3.3.3)\n",
            "Requirement already satisfied: importlib-metadata; python_version < \"3.8\" in /usr/local/lib/python3.6/dist-packages (from markdown>=2.6.8->tensorboard<1.16.0,>=1.15.0->tensorflow==1.15) (3.1.1)\n",
            "Requirement already satisfied: zipp>=0.5 in /usr/local/lib/python3.6/dist-packages (from importlib-metadata; python_version < \"3.8\"->markdown>=2.6.8->tensorboard<1.16.0,>=1.15.0->tensorflow==1.15) (3.4.0)\n",
            "Building wheels for collected packages: gast\n",
            "  Building wheel for gast (setup.py) ... \u001b[?25l\u001b[?25hdone\n",
            "  Created wheel for gast: filename=gast-0.2.2-cp36-none-any.whl size=7542 sha256=7e88e44d804986c3422c5e9f8dd9428d32f094d1d8b2cde184d9c0c9809673b4\n",
            "  Stored in directory: /root/.cache/pip/wheels/5c/2e/7e/a1d4d4fcebe6c381f378ce7743a3ced3699feb89bcfbdadadd\n",
            "Successfully built gast\n",
            "\u001b[31mERROR: tensorflow-probability 0.11.0 has requirement gast>=0.3.2, but you'll have gast 0.2.2 which is incompatible.\u001b[0m\n",
            "Installing collected packages: keras-applications, tensorboard, gast, tensorflow-estimator, tensorflow\n",
            "  Found existing installation: tensorboard 2.3.0\n",
            "    Uninstalling tensorboard-2.3.0:\n",
            "      Successfully uninstalled tensorboard-2.3.0\n",
            "  Found existing installation: gast 0.3.3\n",
            "    Uninstalling gast-0.3.3:\n",
            "      Successfully uninstalled gast-0.3.3\n",
            "  Found existing installation: tensorflow-estimator 2.3.0\n",
            "    Uninstalling tensorflow-estimator-2.3.0:\n",
            "      Successfully uninstalled tensorflow-estimator-2.3.0\n",
            "  Found existing installation: tensorflow 2.3.0\n",
            "    Uninstalling tensorflow-2.3.0:\n",
            "      Successfully uninstalled tensorflow-2.3.0\n",
            "Successfully installed gast-0.2.2 keras-applications-1.0.8 tensorboard-1.15.0 tensorflow-1.15.0 tensorflow-estimator-1.15.1\n"
          ],
          "name": "stdout"
        },
        {
          "output_type": "display_data",
          "data": {
            "application/vnd.colab-display-data+json": {
              "pip_warning": {
                "packages": [
                  "gast",
                  "tensorboard",
                  "tensorflow"
                ]
              }
            }
          },
          "metadata": {
            "tags": []
          }
        }
      ]
    },
    {
      "cell_type": "code",
      "metadata": {
        "colab": {
          "base_uri": "https://localhost:8080/"
        },
        "id": "HudhvrOIeWSl",
        "outputId": "2091ec86-c12a-4104-e94a-25d436e1ea35"
      },
      "source": [
        "import tensorflow.compat.v1 as tf\n",
        "tf.disable_v2_behavior()\n",
        "plain_model.fit(dataset_orig_train)\n"
      ],
      "execution_count": 8,
      "outputs": [
        {
          "output_type": "stream",
          "text": [
            "WARNING:tensorflow:From /usr/local/lib/python3.6/dist-packages/aif360/algorithms/inprocessing/adversarial_debiasing.py:135: The name tf.variable_scope is deprecated. Please use tf.compat.v1.variable_scope instead.\n",
            "\n",
            "WARNING:tensorflow:From /usr/local/lib/python3.6/dist-packages/aif360/algorithms/inprocessing/adversarial_debiasing.py:139: The name tf.placeholder is deprecated. Please use tf.compat.v1.placeholder instead.\n",
            "\n",
            "WARNING:tensorflow:From /usr/local/lib/python3.6/dist-packages/aif360/algorithms/inprocessing/adversarial_debiasing.py:82: The name tf.get_variable is deprecated. Please use tf.compat.v1.get_variable instead.\n",
            "\n",
            "WARNING:tensorflow:\n",
            "The TensorFlow contrib module will not be included in TensorFlow 2.0.\n",
            "For more information, please see:\n",
            "  * https://github.com/tensorflow/community/blob/master/rfcs/20180907-contrib-sunset.md\n",
            "  * https://github.com/tensorflow/addons\n",
            "  * https://github.com/tensorflow/io (for I/O related ops)\n",
            "If you depend on functionality not listed there, please file an issue.\n",
            "\n",
            "WARNING:tensorflow:From /usr/local/lib/python3.6/dist-packages/aif360/algorithms/inprocessing/adversarial_debiasing.py:87: calling dropout (from tensorflow.python.ops.nn_ops) with keep_prob is deprecated and will be removed in a future version.\n",
            "Instructions for updating:\n",
            "Please use `rate` instead of `keep_prob`. Rate should be set to `rate = 1 - keep_prob`.\n",
            "WARNING:tensorflow:From /usr/local/lib/python3.6/dist-packages/tensorflow_core/python/ops/nn_impl.py:183: where (from tensorflow.python.ops.array_ops) is deprecated and will be removed in a future version.\n",
            "Instructions for updating:\n",
            "Use tf.where in 2.0, which has the same broadcast rule as np.where\n",
            "WARNING:tensorflow:From /usr/local/lib/python3.6/dist-packages/aif360/algorithms/inprocessing/adversarial_debiasing.py:157: The name tf.train.exponential_decay is deprecated. Please use tf.compat.v1.train.exponential_decay instead.\n",
            "\n",
            "WARNING:tensorflow:From /usr/local/lib/python3.6/dist-packages/aif360/algorithms/inprocessing/adversarial_debiasing.py:159: The name tf.train.AdamOptimizer is deprecated. Please use tf.compat.v1.train.AdamOptimizer instead.\n",
            "\n",
            "WARNING:tensorflow:From /usr/local/lib/python3.6/dist-packages/aif360/algorithms/inprocessing/adversarial_debiasing.py:163: The name tf.trainable_variables is deprecated. Please use tf.compat.v1.trainable_variables instead.\n",
            "\n",
            "WARNING:tensorflow:From /usr/local/lib/python3.6/dist-packages/aif360/algorithms/inprocessing/adversarial_debiasing.py:185: The name tf.global_variables_initializer is deprecated. Please use tf.compat.v1.global_variables_initializer instead.\n",
            "\n",
            "WARNING:tensorflow:From /usr/local/lib/python3.6/dist-packages/aif360/algorithms/inprocessing/adversarial_debiasing.py:186: The name tf.local_variables_initializer is deprecated. Please use tf.compat.v1.local_variables_initializer instead.\n",
            "\n",
            "epoch 0; iter: 0; batch classifier loss: 0.712414\n",
            "epoch 0; iter: 200; batch classifier loss: 0.472241\n",
            "epoch 1; iter: 0; batch classifier loss: 0.405866\n",
            "epoch 1; iter: 200; batch classifier loss: 0.401715\n",
            "epoch 2; iter: 0; batch classifier loss: 0.410975\n",
            "epoch 2; iter: 200; batch classifier loss: 0.442653\n",
            "epoch 3; iter: 0; batch classifier loss: 0.353604\n",
            "epoch 3; iter: 200; batch classifier loss: 0.508126\n",
            "epoch 4; iter: 0; batch classifier loss: 0.436724\n",
            "epoch 4; iter: 200; batch classifier loss: 0.404916\n",
            "epoch 5; iter: 0; batch classifier loss: 0.432579\n",
            "epoch 5; iter: 200; batch classifier loss: 0.469495\n",
            "epoch 6; iter: 0; batch classifier loss: 0.435649\n",
            "epoch 6; iter: 200; batch classifier loss: 0.438471\n",
            "epoch 7; iter: 0; batch classifier loss: 0.385750\n",
            "epoch 7; iter: 200; batch classifier loss: 0.356685\n",
            "epoch 8; iter: 0; batch classifier loss: 0.390606\n",
            "epoch 8; iter: 200; batch classifier loss: 0.422100\n",
            "epoch 9; iter: 0; batch classifier loss: 0.432371\n",
            "epoch 9; iter: 200; batch classifier loss: 0.351954\n",
            "epoch 10; iter: 0; batch classifier loss: 0.411716\n",
            "epoch 10; iter: 200; batch classifier loss: 0.409851\n",
            "epoch 11; iter: 0; batch classifier loss: 0.421636\n",
            "epoch 11; iter: 200; batch classifier loss: 0.425613\n",
            "epoch 12; iter: 0; batch classifier loss: 0.428621\n",
            "epoch 12; iter: 200; batch classifier loss: 0.450370\n",
            "epoch 13; iter: 0; batch classifier loss: 0.504652\n",
            "epoch 13; iter: 200; batch classifier loss: 0.496555\n",
            "epoch 14; iter: 0; batch classifier loss: 0.403349\n",
            "epoch 14; iter: 200; batch classifier loss: 0.474268\n",
            "epoch 15; iter: 0; batch classifier loss: 0.375030\n",
            "epoch 15; iter: 200; batch classifier loss: 0.434224\n",
            "epoch 16; iter: 0; batch classifier loss: 0.406178\n",
            "epoch 16; iter: 200; batch classifier loss: 0.391851\n",
            "epoch 17; iter: 0; batch classifier loss: 0.403438\n",
            "epoch 17; iter: 200; batch classifier loss: 0.337457\n",
            "epoch 18; iter: 0; batch classifier loss: 0.419128\n",
            "epoch 18; iter: 200; batch classifier loss: 0.419131\n",
            "epoch 19; iter: 0; batch classifier loss: 0.465111\n",
            "epoch 19; iter: 200; batch classifier loss: 0.430007\n",
            "epoch 20; iter: 0; batch classifier loss: 0.437913\n",
            "epoch 20; iter: 200; batch classifier loss: 0.436978\n",
            "epoch 21; iter: 0; batch classifier loss: 0.281461\n",
            "epoch 21; iter: 200; batch classifier loss: 0.465476\n",
            "epoch 22; iter: 0; batch classifier loss: 0.407025\n",
            "epoch 22; iter: 200; batch classifier loss: 0.428019\n",
            "epoch 23; iter: 0; batch classifier loss: 0.412919\n",
            "epoch 23; iter: 200; batch classifier loss: 0.356758\n",
            "epoch 24; iter: 0; batch classifier loss: 0.398897\n",
            "epoch 24; iter: 200; batch classifier loss: 0.443210\n",
            "epoch 25; iter: 0; batch classifier loss: 0.413053\n",
            "epoch 25; iter: 200; batch classifier loss: 0.409941\n",
            "epoch 26; iter: 0; batch classifier loss: 0.411754\n",
            "epoch 26; iter: 200; batch classifier loss: 0.403599\n",
            "epoch 27; iter: 0; batch classifier loss: 0.386879\n",
            "epoch 27; iter: 200; batch classifier loss: 0.400786\n",
            "epoch 28; iter: 0; batch classifier loss: 0.351669\n",
            "epoch 28; iter: 200; batch classifier loss: 0.479094\n",
            "epoch 29; iter: 0; batch classifier loss: 0.351710\n",
            "epoch 29; iter: 200; batch classifier loss: 0.419268\n",
            "epoch 30; iter: 0; batch classifier loss: 0.429823\n",
            "epoch 30; iter: 200; batch classifier loss: 0.437237\n",
            "epoch 31; iter: 0; batch classifier loss: 0.489800\n",
            "epoch 31; iter: 200; batch classifier loss: 0.455481\n",
            "epoch 32; iter: 0; batch classifier loss: 0.420039\n",
            "epoch 32; iter: 200; batch classifier loss: 0.481325\n",
            "epoch 33; iter: 0; batch classifier loss: 0.497406\n",
            "epoch 33; iter: 200; batch classifier loss: 0.361881\n",
            "epoch 34; iter: 0; batch classifier loss: 0.396846\n",
            "epoch 34; iter: 200; batch classifier loss: 0.431850\n",
            "epoch 35; iter: 0; batch classifier loss: 0.453038\n",
            "epoch 35; iter: 200; batch classifier loss: 0.452176\n",
            "epoch 36; iter: 0; batch classifier loss: 0.420212\n",
            "epoch 36; iter: 200; batch classifier loss: 0.435963\n",
            "epoch 37; iter: 0; batch classifier loss: 0.402654\n",
            "epoch 37; iter: 200; batch classifier loss: 0.430148\n",
            "epoch 38; iter: 0; batch classifier loss: 0.341881\n",
            "epoch 38; iter: 200; batch classifier loss: 0.435554\n",
            "epoch 39; iter: 0; batch classifier loss: 0.435494\n",
            "epoch 39; iter: 200; batch classifier loss: 0.443135\n",
            "epoch 40; iter: 0; batch classifier loss: 0.433280\n",
            "epoch 40; iter: 200; batch classifier loss: 0.379307\n",
            "epoch 41; iter: 0; batch classifier loss: 0.408095\n",
            "epoch 41; iter: 200; batch classifier loss: 0.324199\n",
            "epoch 42; iter: 0; batch classifier loss: 0.381939\n",
            "epoch 42; iter: 200; batch classifier loss: 0.451633\n",
            "epoch 43; iter: 0; batch classifier loss: 0.350207\n",
            "epoch 43; iter: 200; batch classifier loss: 0.473530\n",
            "epoch 44; iter: 0; batch classifier loss: 0.395029\n",
            "epoch 44; iter: 200; batch classifier loss: 0.411166\n",
            "epoch 45; iter: 0; batch classifier loss: 0.328388\n",
            "epoch 45; iter: 200; batch classifier loss: 0.351247\n",
            "epoch 46; iter: 0; batch classifier loss: 0.379831\n",
            "epoch 46; iter: 200; batch classifier loss: 0.497494\n",
            "epoch 47; iter: 0; batch classifier loss: 0.400055\n",
            "epoch 47; iter: 200; batch classifier loss: 0.451369\n",
            "epoch 48; iter: 0; batch classifier loss: 0.462357\n",
            "epoch 48; iter: 200; batch classifier loss: 0.395442\n",
            "epoch 49; iter: 0; batch classifier loss: 0.482417\n",
            "epoch 49; iter: 200; batch classifier loss: 0.433316\n"
          ],
          "name": "stdout"
        },
        {
          "output_type": "execute_result",
          "data": {
            "text/plain": [
              "<aif360.algorithms.inprocessing.adversarial_debiasing.AdversarialDebiasing at 0x7fd3307c72b0>"
            ]
          },
          "metadata": {
            "tags": []
          },
          "execution_count": 8
        }
      ]
    },
    {
      "cell_type": "code",
      "metadata": {
        "id": "f708mFo3eWVn"
      },
      "source": [
        "# Apply the plain model to test data\n",
        "dataset_nodebiasing_train = plain_model.predict(dataset_orig_train)\n",
        "dataset_nodebiasing_test = plain_model.predict(dataset_orig_test)"
      ],
      "execution_count": 9,
      "outputs": []
    },
    {
      "cell_type": "code",
      "metadata": {
        "colab": {
          "base_uri": "https://localhost:8080/",
          "height": 232
        },
        "id": "SVBGIPe7fBTJ",
        "outputId": "14068918-f64c-42ae-ddde-91538cf34f8f"
      },
      "source": [
        "# Metrics for the dataset from plain model (without debiasing)\n",
        "display(Markdown(\"#### Plain model - without debiasing - dataset metrics\"))\n",
        "metric_dataset_nodebiasing_train = BinaryLabelDatasetMetric(dataset_nodebiasing_train, \n",
        "                                             unprivileged_groups=unprivileged_groups,\n",
        "                                             privileged_groups=privileged_groups)\n",
        "\n",
        "print(\"Train set: Difference in mean outcomes between unprivileged and privileged groups = %f\" % metric_dataset_nodebiasing_train.mean_difference())\n",
        "\n",
        "metric_dataset_nodebiasing_test = BinaryLabelDatasetMetric(dataset_nodebiasing_test, \n",
        "                                             unprivileged_groups=unprivileged_groups,\n",
        "                                             privileged_groups=privileged_groups)\n",
        "\n",
        "print(\"Test set: Difference in mean outcomes between unprivileged and privileged groups = %f\" % metric_dataset_nodebiasing_test.mean_difference())\n",
        "\n",
        "display(Markdown(\"#### Plain model - without debiasing - classification metrics\"))\n",
        "classified_metric_nodebiasing_test = ClassificationMetric(dataset_orig_test, \n",
        "                                                 dataset_nodebiasing_test,\n",
        "                                                 unprivileged_groups=unprivileged_groups,\n",
        "                                                 privileged_groups=privileged_groups)\n",
        "print(\"Test set: Classification accuracy = %f\" % classified_metric_nodebiasing_test.accuracy())\n",
        "TPR = classified_metric_nodebiasing_test.true_positive_rate()\n",
        "TNR = classified_metric_nodebiasing_test.true_negative_rate()\n",
        "bal_acc_nodebiasing_test = 0.5*(TPR+TNR)\n",
        "print(\"Test set: Balanced classification accuracy = %f\" % bal_acc_nodebiasing_test)\n",
        "print(\"Test set: Disparate impact = %f\" % classified_metric_nodebiasing_test.disparate_impact())\n",
        "print(\"Test set: Equal opportunity difference = %f\" % classified_metric_nodebiasing_test.equal_opportunity_difference())\n",
        "print(\"Test set: Average odds difference = %f\" % classified_metric_nodebiasing_test.average_odds_difference())\n",
        "print(\"Test set: Theil_index = %f\" % classified_metric_nodebiasing_test.theil_index())"
      ],
      "execution_count": 10,
      "outputs": [
        {
          "output_type": "display_data",
          "data": {
            "text/markdown": "#### Plain model - without debiasing - dataset metrics",
            "text/plain": [
              "<IPython.core.display.Markdown object>"
            ]
          },
          "metadata": {
            "tags": []
          }
        },
        {
          "output_type": "stream",
          "text": [
            "Train set: Difference in mean outcomes between unprivileged and privileged groups = -0.206280\n",
            "Test set: Difference in mean outcomes between unprivileged and privileged groups = -0.204130\n"
          ],
          "name": "stdout"
        },
        {
          "output_type": "display_data",
          "data": {
            "text/markdown": "#### Plain model - without debiasing - classification metrics",
            "text/plain": [
              "<IPython.core.display.Markdown object>"
            ]
          },
          "metadata": {
            "tags": []
          }
        },
        {
          "output_type": "stream",
          "text": [
            "Test set: Classification accuracy = 0.801269\n",
            "Test set: Balanced classification accuracy = 0.654470\n",
            "Test set: Disparate impact = 0.000000\n",
            "Test set: Equal opportunity difference = -0.439049\n",
            "Test set: Average odds difference = -0.269988\n",
            "Test set: Theil_index = 0.183564\n"
          ],
          "name": "stdout"
        }
      ]
    },
    {
      "cell_type": "markdown",
      "metadata": {
        "id": "Du4qdljFfMVG"
      },
      "source": [
        "Apply Adversarial debaising\n"
      ]
    },
    {
      "cell_type": "code",
      "metadata": {
        "id": "xpWb6LQGfLhX"
      },
      "source": [
        "sess.close()\n",
        "tf.reset_default_graph()\n",
        "sess = tf.Session()"
      ],
      "execution_count": 11,
      "outputs": []
    },
    {
      "cell_type": "code",
      "metadata": {
        "id": "Jomjs_QkfR7C"
      },
      "source": [
        "# Learn parameters with debias set to True\n",
        "debiased_model = AdversarialDebiasing(privileged_groups = privileged_groups,\n",
        "                          unprivileged_groups = unprivileged_groups,\n",
        "                          scope_name='debiased_classifier',\n",
        "                          debias=True,\n",
        "                          sess=sess)"
      ],
      "execution_count": 12,
      "outputs": []
    },
    {
      "cell_type": "code",
      "metadata": {
        "colab": {
          "base_uri": "https://localhost:8080/"
        },
        "id": "9nMV-CVgfSCD",
        "outputId": "b2fa0c1c-fdaf-4ea9-ddd6-eb1ba0f249f4"
      },
      "source": [
        "debiased_model.fit(dataset_orig_train)"
      ],
      "execution_count": 13,
      "outputs": [
        {
          "output_type": "stream",
          "text": [
            "epoch 0; iter: 0; batch classifier loss: 0.716542; batch adversarial loss: 0.721006\n",
            "epoch 0; iter: 200; batch classifier loss: 0.422230; batch adversarial loss: 0.669826\n",
            "epoch 1; iter: 0; batch classifier loss: 0.331134; batch adversarial loss: 0.651954\n",
            "epoch 1; iter: 200; batch classifier loss: 0.432029; batch adversarial loss: 0.637296\n",
            "epoch 2; iter: 0; batch classifier loss: 0.534935; batch adversarial loss: 0.601235\n",
            "epoch 2; iter: 200; batch classifier loss: 0.451641; batch adversarial loss: 0.653406\n",
            "epoch 3; iter: 0; batch classifier loss: 0.409940; batch adversarial loss: 0.611997\n",
            "epoch 3; iter: 200; batch classifier loss: 0.383987; batch adversarial loss: 0.602691\n",
            "epoch 4; iter: 0; batch classifier loss: 0.398910; batch adversarial loss: 0.651690\n",
            "epoch 4; iter: 200; batch classifier loss: 0.439070; batch adversarial loss: 0.659149\n",
            "epoch 5; iter: 0; batch classifier loss: 0.473988; batch adversarial loss: 0.630691\n",
            "epoch 5; iter: 200; batch classifier loss: 0.469297; batch adversarial loss: 0.597702\n",
            "epoch 6; iter: 0; batch classifier loss: 0.349958; batch adversarial loss: 0.610224\n",
            "epoch 6; iter: 200; batch classifier loss: 0.412997; batch adversarial loss: 0.626031\n",
            "epoch 7; iter: 0; batch classifier loss: 0.364967; batch adversarial loss: 0.639652\n",
            "epoch 7; iter: 200; batch classifier loss: 0.433336; batch adversarial loss: 0.635720\n",
            "epoch 8; iter: 0; batch classifier loss: 0.454536; batch adversarial loss: 0.567156\n",
            "epoch 8; iter: 200; batch classifier loss: 0.370107; batch adversarial loss: 0.615829\n",
            "epoch 9; iter: 0; batch classifier loss: 0.442650; batch adversarial loss: 0.668923\n",
            "epoch 9; iter: 200; batch classifier loss: 0.506099; batch adversarial loss: 0.611019\n",
            "epoch 10; iter: 0; batch classifier loss: 0.526321; batch adversarial loss: 0.590411\n",
            "epoch 10; iter: 200; batch classifier loss: 0.457549; batch adversarial loss: 0.603329\n",
            "epoch 11; iter: 0; batch classifier loss: 0.359124; batch adversarial loss: 0.576525\n",
            "epoch 11; iter: 200; batch classifier loss: 0.433309; batch adversarial loss: 0.638966\n",
            "epoch 12; iter: 0; batch classifier loss: 0.369904; batch adversarial loss: 0.575036\n",
            "epoch 12; iter: 200; batch classifier loss: 0.435511; batch adversarial loss: 0.595280\n",
            "epoch 13; iter: 0; batch classifier loss: 0.395307; batch adversarial loss: 0.620856\n",
            "epoch 13; iter: 200; batch classifier loss: 0.470148; batch adversarial loss: 0.628587\n",
            "epoch 14; iter: 0; batch classifier loss: 0.438785; batch adversarial loss: 0.629365\n",
            "epoch 14; iter: 200; batch classifier loss: 0.406107; batch adversarial loss: 0.658843\n",
            "epoch 15; iter: 0; batch classifier loss: 0.430001; batch adversarial loss: 0.644008\n",
            "epoch 15; iter: 200; batch classifier loss: 0.419160; batch adversarial loss: 0.613404\n",
            "epoch 16; iter: 0; batch classifier loss: 0.464955; batch adversarial loss: 0.598911\n",
            "epoch 16; iter: 200; batch classifier loss: 0.561983; batch adversarial loss: 0.566622\n",
            "epoch 17; iter: 0; batch classifier loss: 0.513198; batch adversarial loss: 0.644866\n",
            "epoch 17; iter: 200; batch classifier loss: 0.434791; batch adversarial loss: 0.575997\n",
            "epoch 18; iter: 0; batch classifier loss: 0.410859; batch adversarial loss: 0.624246\n",
            "epoch 18; iter: 200; batch classifier loss: 0.444250; batch adversarial loss: 0.592830\n",
            "epoch 19; iter: 0; batch classifier loss: 0.426410; batch adversarial loss: 0.572103\n",
            "epoch 19; iter: 200; batch classifier loss: 0.399594; batch adversarial loss: 0.653787\n",
            "epoch 20; iter: 0; batch classifier loss: 0.508439; batch adversarial loss: 0.576890\n",
            "epoch 20; iter: 200; batch classifier loss: 0.361079; batch adversarial loss: 0.655807\n",
            "epoch 21; iter: 0; batch classifier loss: 0.402540; batch adversarial loss: 0.607389\n",
            "epoch 21; iter: 200; batch classifier loss: 0.352420; batch adversarial loss: 0.703333\n",
            "epoch 22; iter: 0; batch classifier loss: 0.404118; batch adversarial loss: 0.603917\n",
            "epoch 22; iter: 200; batch classifier loss: 0.406944; batch adversarial loss: 0.621268\n",
            "epoch 23; iter: 0; batch classifier loss: 0.384909; batch adversarial loss: 0.583241\n",
            "epoch 23; iter: 200; batch classifier loss: 0.459513; batch adversarial loss: 0.642664\n",
            "epoch 24; iter: 0; batch classifier loss: 0.452221; batch adversarial loss: 0.580110\n",
            "epoch 24; iter: 200; batch classifier loss: 0.415260; batch adversarial loss: 0.597144\n",
            "epoch 25; iter: 0; batch classifier loss: 0.486022; batch adversarial loss: 0.595055\n",
            "epoch 25; iter: 200; batch classifier loss: 0.395797; batch adversarial loss: 0.586245\n",
            "epoch 26; iter: 0; batch classifier loss: 0.409603; batch adversarial loss: 0.630545\n",
            "epoch 26; iter: 200; batch classifier loss: 0.444142; batch adversarial loss: 0.628657\n",
            "epoch 27; iter: 0; batch classifier loss: 0.430223; batch adversarial loss: 0.606957\n",
            "epoch 27; iter: 200; batch classifier loss: 0.506535; batch adversarial loss: 0.589009\n",
            "epoch 28; iter: 0; batch classifier loss: 0.440041; batch adversarial loss: 0.601397\n",
            "epoch 28; iter: 200; batch classifier loss: 0.439700; batch adversarial loss: 0.628481\n",
            "epoch 29; iter: 0; batch classifier loss: 0.529805; batch adversarial loss: 0.643995\n",
            "epoch 29; iter: 200; batch classifier loss: 0.556550; batch adversarial loss: 0.609688\n",
            "epoch 30; iter: 0; batch classifier loss: 0.371488; batch adversarial loss: 0.615928\n",
            "epoch 30; iter: 200; batch classifier loss: 0.367150; batch adversarial loss: 0.624126\n",
            "epoch 31; iter: 0; batch classifier loss: 0.423477; batch adversarial loss: 0.640761\n",
            "epoch 31; iter: 200; batch classifier loss: 0.394552; batch adversarial loss: 0.579167\n",
            "epoch 32; iter: 0; batch classifier loss: 0.411275; batch adversarial loss: 0.620980\n",
            "epoch 32; iter: 200; batch classifier loss: 0.457960; batch adversarial loss: 0.620906\n",
            "epoch 33; iter: 0; batch classifier loss: 0.434672; batch adversarial loss: 0.642532\n",
            "epoch 33; iter: 200; batch classifier loss: 0.380104; batch adversarial loss: 0.596652\n",
            "epoch 34; iter: 0; batch classifier loss: 0.372265; batch adversarial loss: 0.643688\n",
            "epoch 34; iter: 200; batch classifier loss: 0.379900; batch adversarial loss: 0.588153\n",
            "epoch 35; iter: 0; batch classifier loss: 0.456907; batch adversarial loss: 0.622378\n",
            "epoch 35; iter: 200; batch classifier loss: 0.440621; batch adversarial loss: 0.613616\n",
            "epoch 36; iter: 0; batch classifier loss: 0.436593; batch adversarial loss: 0.614561\n",
            "epoch 36; iter: 200; batch classifier loss: 0.406690; batch adversarial loss: 0.632448\n",
            "epoch 37; iter: 0; batch classifier loss: 0.445305; batch adversarial loss: 0.589161\n",
            "epoch 37; iter: 200; batch classifier loss: 0.511186; batch adversarial loss: 0.601199\n",
            "epoch 38; iter: 0; batch classifier loss: 0.354403; batch adversarial loss: 0.611370\n",
            "epoch 38; iter: 200; batch classifier loss: 0.380225; batch adversarial loss: 0.589035\n",
            "epoch 39; iter: 0; batch classifier loss: 0.432327; batch adversarial loss: 0.664800\n",
            "epoch 39; iter: 200; batch classifier loss: 0.465735; batch adversarial loss: 0.618611\n",
            "epoch 40; iter: 0; batch classifier loss: 0.437102; batch adversarial loss: 0.664661\n",
            "epoch 40; iter: 200; batch classifier loss: 0.485555; batch adversarial loss: 0.613161\n",
            "epoch 41; iter: 0; batch classifier loss: 0.438904; batch adversarial loss: 0.565204\n",
            "epoch 41; iter: 200; batch classifier loss: 0.501538; batch adversarial loss: 0.526324\n",
            "epoch 42; iter: 0; batch classifier loss: 0.436945; batch adversarial loss: 0.578681\n",
            "epoch 42; iter: 200; batch classifier loss: 0.430933; batch adversarial loss: 0.635163\n",
            "epoch 43; iter: 0; batch classifier loss: 0.508374; batch adversarial loss: 0.592970\n",
            "epoch 43; iter: 200; batch classifier loss: 0.415277; batch adversarial loss: 0.666192\n",
            "epoch 44; iter: 0; batch classifier loss: 0.410110; batch adversarial loss: 0.548973\n",
            "epoch 44; iter: 200; batch classifier loss: 0.495733; batch adversarial loss: 0.530998\n",
            "epoch 45; iter: 0; batch classifier loss: 0.419956; batch adversarial loss: 0.614933\n",
            "epoch 45; iter: 200; batch classifier loss: 0.473300; batch adversarial loss: 0.583944\n",
            "epoch 46; iter: 0; batch classifier loss: 0.394514; batch adversarial loss: 0.631672\n",
            "epoch 46; iter: 200; batch classifier loss: 0.466230; batch adversarial loss: 0.667242\n",
            "epoch 47; iter: 0; batch classifier loss: 0.469801; batch adversarial loss: 0.622207\n",
            "epoch 47; iter: 200; batch classifier loss: 0.442336; batch adversarial loss: 0.652113\n",
            "epoch 48; iter: 0; batch classifier loss: 0.516978; batch adversarial loss: 0.586539\n",
            "epoch 48; iter: 200; batch classifier loss: 0.405879; batch adversarial loss: 0.590732\n",
            "epoch 49; iter: 0; batch classifier loss: 0.388173; batch adversarial loss: 0.585648\n",
            "epoch 49; iter: 200; batch classifier loss: 0.500800; batch adversarial loss: 0.615034\n"
          ],
          "name": "stdout"
        },
        {
          "output_type": "execute_result",
          "data": {
            "text/plain": [
              "<aif360.algorithms.inprocessing.adversarial_debiasing.AdversarialDebiasing at 0x7fd32504ec18>"
            ]
          },
          "metadata": {
            "tags": []
          },
          "execution_count": 13
        }
      ]
    },
    {
      "cell_type": "code",
      "metadata": {
        "id": "KRXDsHDifXWi"
      },
      "source": [
        "# Apply the plain model to test data\n",
        "dataset_debiasing_train = debiased_model.predict(dataset_orig_train)\n",
        "dataset_debiasing_test = debiased_model.predict(dataset_orig_test)"
      ],
      "execution_count": 14,
      "outputs": []
    },
    {
      "cell_type": "code",
      "metadata": {
        "colab": {
          "base_uri": "https://localhost:8080/",
          "height": 447
        },
        "id": "2IvNtcPkf53y",
        "outputId": "613a4c22-1fa4-43db-fe85-16b394bbb899"
      },
      "source": [
        "# Metrics for the dataset from plain model (without debiasing)\n",
        "display(Markdown(\"#### Plain model - without debiasing - dataset metrics\"))\n",
        "print(\"Train set: Difference in mean outcomes between unprivileged and privileged groups = %f\" % metric_dataset_nodebiasing_train.mean_difference())\n",
        "print(\"Test set: Difference in mean outcomes between unprivileged and privileged groups = %f\" % metric_dataset_nodebiasing_test.mean_difference())\n",
        "\n",
        "# Metrics for the dataset from model with debiasing\n",
        "display(Markdown(\"#### Model - with debiasing - dataset metrics\"))\n",
        "metric_dataset_debiasing_train = BinaryLabelDatasetMetric(dataset_debiasing_train, \n",
        "                                             unprivileged_groups=unprivileged_groups,\n",
        "                                             privileged_groups=privileged_groups)\n",
        "\n",
        "print(\"Train set: Difference in mean outcomes between unprivileged and privileged groups = %f\" % metric_dataset_debiasing_train.mean_difference())\n",
        "\n",
        "metric_dataset_debiasing_test = BinaryLabelDatasetMetric(dataset_debiasing_test, \n",
        "                                             unprivileged_groups=unprivileged_groups,\n",
        "                                             privileged_groups=privileged_groups)\n",
        "\n",
        "print(\"Test set: Difference in mean outcomes between unprivileged and privileged groups = %f\" % metric_dataset_debiasing_test.mean_difference())\n",
        "\n",
        "\n",
        "\n",
        "display(Markdown(\"#### Plain model - without debiasing - classification metrics\"))\n",
        "print(\"Test set: Classification accuracy = %f\" % classified_metric_nodebiasing_test.accuracy())\n",
        "TPR = classified_metric_nodebiasing_test.true_positive_rate()\n",
        "TNR = classified_metric_nodebiasing_test.true_negative_rate()\n",
        "bal_acc_nodebiasing_test = 0.5*(TPR+TNR)\n",
        "print(\"Test set: Balanced classification accuracy = %f\" % bal_acc_nodebiasing_test)\n",
        "print(\"Test set: Disparate impact = %f\" % classified_metric_nodebiasing_test.disparate_impact())\n",
        "print(\"Test set: Equal opportunity difference = %f\" % classified_metric_nodebiasing_test.equal_opportunity_difference())\n",
        "print(\"Test set: Average odds difference = %f\" % classified_metric_nodebiasing_test.average_odds_difference())\n",
        "print(\"Test set: Theil_index = %f\" % classified_metric_nodebiasing_test.theil_index())\n",
        "\n",
        "\n",
        "\n",
        "display(Markdown(\"#### Model - with debiasing - classification metrics\"))\n",
        "classified_metric_debiasing_test = ClassificationMetric(dataset_orig_test, \n",
        "                                                 dataset_debiasing_test,\n",
        "                                                 unprivileged_groups=unprivileged_groups,\n",
        "                                                 privileged_groups=privileged_groups)\n",
        "print(\"Test set: Classification accuracy = %f\" % classified_metric_debiasing_test.accuracy())\n",
        "TPR = classified_metric_debiasing_test.true_positive_rate()\n",
        "TNR = classified_metric_debiasing_test.true_negative_rate()\n",
        "bal_acc_debiasing_test = 0.5*(TPR+TNR)\n",
        "print(\"Test set: Balanced classification accuracy = %f\" % bal_acc_debiasing_test)\n",
        "print(\"Test set: Disparate impact = %f\" % classified_metric_debiasing_test.disparate_impact())\n",
        "print(\"Test set: Equal opportunity difference = %f\" % classified_metric_debiasing_test.equal_opportunity_difference())\n",
        "print(\"Test set: Average odds difference = %f\" % classified_metric_debiasing_test.average_odds_difference())\n",
        "print(\"Test set: Theil_index = %f\" % classified_metric_debiasing_test.theil_index())"
      ],
      "execution_count": 15,
      "outputs": [
        {
          "output_type": "display_data",
          "data": {
            "text/markdown": "#### Plain model - without debiasing - dataset metrics",
            "text/plain": [
              "<IPython.core.display.Markdown object>"
            ]
          },
          "metadata": {
            "tags": []
          }
        },
        {
          "output_type": "stream",
          "text": [
            "Train set: Difference in mean outcomes between unprivileged and privileged groups = -0.206280\n",
            "Test set: Difference in mean outcomes between unprivileged and privileged groups = -0.204130\n"
          ],
          "name": "stdout"
        },
        {
          "output_type": "display_data",
          "data": {
            "text/markdown": "#### Model - with debiasing - dataset metrics",
            "text/plain": [
              "<IPython.core.display.Markdown object>"
            ]
          },
          "metadata": {
            "tags": []
          }
        },
        {
          "output_type": "stream",
          "text": [
            "Train set: Difference in mean outcomes between unprivileged and privileged groups = -0.085895\n",
            "Test set: Difference in mean outcomes between unprivileged and privileged groups = -0.089551\n"
          ],
          "name": "stdout"
        },
        {
          "output_type": "display_data",
          "data": {
            "text/markdown": "#### Plain model - without debiasing - classification metrics",
            "text/plain": [
              "<IPython.core.display.Markdown object>"
            ]
          },
          "metadata": {
            "tags": []
          }
        },
        {
          "output_type": "stream",
          "text": [
            "Test set: Classification accuracy = 0.801269\n",
            "Test set: Balanced classification accuracy = 0.654470\n",
            "Test set: Disparate impact = 0.000000\n",
            "Test set: Equal opportunity difference = -0.439049\n",
            "Test set: Average odds difference = -0.269988\n",
            "Test set: Theil_index = 0.183564\n"
          ],
          "name": "stdout"
        },
        {
          "output_type": "display_data",
          "data": {
            "text/markdown": "#### Model - with debiasing - classification metrics",
            "text/plain": [
              "<IPython.core.display.Markdown object>"
            ]
          },
          "metadata": {
            "tags": []
          }
        },
        {
          "output_type": "stream",
          "text": [
            "Test set: Classification accuracy = 0.791442\n",
            "Test set: Balanced classification accuracy = 0.667944\n",
            "Test set: Disparate impact = 0.561305\n",
            "Test set: Equal opportunity difference = -0.063368\n",
            "Test set: Average odds difference = -0.041513\n",
            "Test set: Theil_index = 0.174524\n"
          ],
          "name": "stdout"
        }
      ]
    },
    {
      "cell_type": "code",
      "metadata": {
        "id": "KtM5Ol0viNUr"
      },
      "source": [
        "import seaborn"
      ],
      "execution_count": 22,
      "outputs": []
    },
    {
      "cell_type": "code",
      "metadata": {
        "colab": {
          "base_uri": "https://localhost:8080/",
          "height": 362
        },
        "id": "9Hh69ujAf8Sn",
        "outputId": "f8071833-63cb-4a4c-ace5-d21f6bde0e2e"
      },
      "source": [
        "def plot_metrics(metrics_before, metrics_after, \n",
        "                 sensitive_attr='Gender',\n",
        "                 mitigation='Adversarial De-biasing', dataset='Adult'):\n",
        "    total = 4; cols = 4\n",
        "    rows = total //cols; rows += total % cols\n",
        "    pos = range(1, total+1)\n",
        "\n",
        "    import numpy as np\n",
        "    import matplotlib.pyplot as plt\n",
        "    import matplotlib as mpl\n",
        "    from cycler import cycler\n",
        "    plt.style.use('ggplot')\n",
        "    mpl.rcParams['lines.linewidth'] = 2\n",
        "    mpl.rcParams['lines.linestyle'] = '--' \n",
        "\n",
        "    fig = plt.figure(figsize=(36,rows*8))\n",
        "    x_pos = [1,2]\n",
        "    kwargs = {\n",
        "        'color': ['grey', 'teal'],\n",
        "        'tick_label': ['Before mitigation', 'After mitigation']\n",
        "    }\n",
        "    \n",
        "    i = 0; subplot_pad=20\n",
        "\n",
        "    ax = fig.add_subplot(rows, cols, pos[i])\n",
        "    ax.set_title('Classification Accuracy Difference', pad=subplot_pad)\n",
        "    import seaborn as sns\n",
        "    ax.bar(x_pos, [metrics_before.accuracy(), metrics_after.accuracy()],\n",
        "                  **kwargs)\n",
        "\n",
        "    metrics = {'Demographic Parity Difference': 'mean_difference',\n",
        "               'Disparate Impact': 'disparate_impact',\n",
        "               'Equal Opportunity Difference': 'equal_opportunity_difference'}\n",
        "    \n",
        "    for title, methodname in  metrics.items():\n",
        "        i += 1;\n",
        "        ax = fig.add_subplot(rows, cols, pos[i])\n",
        "        ax.set_title(title, pad=subplot_pad)\n",
        "        ax.set_ylim([-0.4,1])\n",
        "        ax.bar(x_pos, \n",
        "                     [getattr(metrics_before, methodname)(), getattr(metrics_after, methodname)()],\n",
        "                     **kwargs)\n",
        "        \n",
        "    fig.subplots_adjust(bottom=0.2)\n",
        "    title = 'Impact of {} on {} dataset - {}'.format(mitigation, dataset, sensitive_attr)\n",
        "    fig.suptitle(title, y=0.08)\n",
        "    # fig.savefig('figures/'+title+'.png')\n",
        "    plt.show()\n",
        "\n",
        "font = {'font.size'   : 18,\n",
        "        'figure.titlesize': 30}\n",
        "plt.rcParams.update(font)\n",
        "\n",
        "plot_metrics(classified_metric_nodebiasing_test, classified_metric_debiasing_test)"
      ],
      "execution_count": 39,
      "outputs": [
        {
          "output_type": "display_data",
          "data": {
            "image/png": "[encoded data removed]",
            "text/plain": [
              "<Figure size 2592x576 with 4 Axes>"
            ]
          },
          "metadata": {
            "tags": []
          }
        }
      ]
    }
  ]
}