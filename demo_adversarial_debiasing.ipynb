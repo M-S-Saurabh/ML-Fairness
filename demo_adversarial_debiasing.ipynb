{
 "cells": [
  {
   "cell_type": "markdown",
   "metadata": {},
   "source": [
    "#### This notebook demonstrates the use of adversarial debiasing algorithm to learn a fair classifier.\n",
    "Adversarial debiasing [1] is an in-processing technique that learns a classifier to maximize prediction accuracy and simultaneously reduce an adversary's ability to determine the protected attribute from the predictions. This approach leads to a fair classifier as the predictions cannot carry any group discrimination information that the adversary can exploit. We will see how to use this algorithm for learning models with and without fairness constraints and apply them on the Adult dataset."
   ]
  },
  {
   "cell_type": "code",
   "execution_count": 85,
   "metadata": {},
   "outputs": [],
   "source": [
    "%matplotlib inline\n",
    "# Load all necessary packages\n",
    "import sys\n",
    "sys.path.append(\"../\")\n",
    "from aif360.datasets import BinaryLabelDataset\n",
    "from aif360.datasets import AdultDataset, GermanDataset, CompasDataset\n",
    "from aif360.metrics import BinaryLabelDatasetMetric\n",
    "from aif360.metrics import ClassificationMetric\n",
    "from aif360.metrics.utils import compute_boolean_conditioning_vector\n",
    "\n",
    "from aif360.algorithms.preprocessing.optim_preproc_helpers.data_preproc_functions import load_preproc_data_adult, load_preproc_data_compas, load_preproc_data_german\n",
    "\n",
    "from aif360.algorithms.inprocessing.adversarial_debiasing import AdversarialDebiasing\n",
    "\n",
    "from sklearn.linear_model import LogisticRegression\n",
    "from sklearn.preprocessing import StandardScaler, MaxAbsScaler\n",
    "from sklearn.metrics import accuracy_score\n",
    "\n",
    "from IPython.display import Markdown, display\n",
    "import matplotlib.pyplot as plt\n",
    "\n",
    "import tensorflow as tf"
   ]
  },
  {
   "cell_type": "markdown",
   "metadata": {},
   "source": [
    "#### Load dataset and set options"
   ]
  },
  {
   "cell_type": "code",
   "execution_count": 25,
   "metadata": {},
   "outputs": [],
   "source": [
    "# Get the dataset and split into train and test\n",
    "dataset_orig = load_preproc_data_compas(['race'])\n",
    "\n",
    "privileged_groups = [{'race': 1}]\n",
    "unprivileged_groups = [{'race': 0}]\n",
    "\n",
    "dataset_orig_train, dataset_orig_test = dataset_orig.split([0.7], shuffle=True)"
   ]
  },
  {
   "cell_type": "code",
   "execution_count": 8,
   "metadata": {},
   "outputs": [
    {
     "data": {
      "text/markdown": [
       "#### Training Dataset shape"
      ],
      "text/plain": [
       "<IPython.core.display.Markdown object>"
      ]
     },
     "metadata": {},
     "output_type": "display_data"
    },
    {
     "name": "stdout",
     "output_type": "stream",
     "text": [
      "(3694, 10)\n"
     ]
    },
    {
     "data": {
      "text/markdown": [
       "#### Favorable and unfavorable labels"
      ],
      "text/plain": [
       "<IPython.core.display.Markdown object>"
      ]
     },
     "metadata": {},
     "output_type": "display_data"
    },
    {
     "name": "stdout",
     "output_type": "stream",
     "text": [
      "0.0 1.0\n"
     ]
    },
    {
     "data": {
      "text/markdown": [
       "#### Protected attribute names"
      ],
      "text/plain": [
       "<IPython.core.display.Markdown object>"
      ]
     },
     "metadata": {},
     "output_type": "display_data"
    },
    {
     "name": "stdout",
     "output_type": "stream",
     "text": [
      "['race']\n"
     ]
    },
    {
     "data": {
      "text/markdown": [
       "#### Privileged and unprivileged protected attribute values"
      ],
      "text/plain": [
       "<IPython.core.display.Markdown object>"
      ]
     },
     "metadata": {},
     "output_type": "display_data"
    },
    {
     "name": "stdout",
     "output_type": "stream",
     "text": [
      "[array([1.])] [array([0.])]\n"
     ]
    },
    {
     "data": {
      "text/markdown": [
       "#### Dataset feature names"
      ],
      "text/plain": [
       "<IPython.core.display.Markdown object>"
      ]
     },
     "metadata": {},
     "output_type": "display_data"
    },
    {
     "name": "stdout",
     "output_type": "stream",
     "text": [
      "['sex', 'race', 'age_cat=25 to 45', 'age_cat=Greater than 45', 'age_cat=Less than 25', 'priors_count=0', 'priors_count=1 to 3', 'priors_count=More than 3', 'c_charge_degree=F', 'c_charge_degree=M']\n"
     ]
    }
   ],
   "source": [
    "# print out some labels, names, etc.\n",
    "display(Markdown(\"#### Training Dataset shape\"))\n",
    "print(dataset_orig_train.features.shape)\n",
    "display(Markdown(\"#### Favorable and unfavorable labels\"))\n",
    "print(dataset_orig_train.favorable_label, dataset_orig_train.unfavorable_label)\n",
    "display(Markdown(\"#### Protected attribute names\"))\n",
    "print(dataset_orig_train.protected_attribute_names)\n",
    "display(Markdown(\"#### Privileged and unprivileged protected attribute values\"))\n",
    "print(dataset_orig_train.privileged_protected_attributes, \n",
    "      dataset_orig_train.unprivileged_protected_attributes)\n",
    "display(Markdown(\"#### Dataset feature names\"))\n",
    "print(dataset_orig_train.feature_names)"
   ]
  },
  {
   "cell_type": "markdown",
   "metadata": {},
   "source": [
    "#### Metric for original training data"
   ]
  },
  {
   "cell_type": "code",
   "execution_count": 19,
   "metadata": {},
   "outputs": [
    {
     "data": {
      "text/markdown": [
       "#### Original training dataset"
      ],
      "text/plain": [
       "<IPython.core.display.Markdown object>"
      ]
     },
     "metadata": {},
     "output_type": "display_data"
    },
    {
     "name": "stdout",
     "output_type": "stream",
     "text": [
      "Train set: Difference in mean outcomes between unprivileged and privileged groups = -0.118710\n",
      "Test set: Difference in mean outcomes between unprivileged and privileged groups = -0.163953\n"
     ]
    }
   ],
   "source": [
    "# Metric for the original dataset\n",
    "metric_orig_train = BinaryLabelDatasetMetric(dataset_orig_train, \n",
    "                                             unprivileged_groups=unprivileged_groups,\n",
    "                                             privileged_groups=privileged_groups)\n",
    "display(Markdown(\"#### Original training dataset\"))\n",
    "print(\"Train set: Difference in mean outcomes between unprivileged and privileged groups = %f\" % metric_orig_train.mean_difference())\n",
    "metric_orig_test = BinaryLabelDatasetMetric(dataset_orig_test, \n",
    "                                             unprivileged_groups=unprivileged_groups,\n",
    "                                             privileged_groups=privileged_groups)\n",
    "print(\"Test set: Difference in mean outcomes between unprivileged and privileged groups = %f\" % metric_orig_test.mean_difference())"
   ]
  },
  {
   "cell_type": "code",
   "execution_count": 9,
   "metadata": {},
   "outputs": [
    {
     "data": {
      "text/markdown": [
       "#### Scaled dataset - Verify that the scaling does not affect the group label statistics"
      ],
      "text/plain": [
       "<IPython.core.display.Markdown object>"
      ]
     },
     "metadata": {},
     "output_type": "display_data"
    },
    {
     "name": "stdout",
     "output_type": "stream",
     "text": [
      "Train set: Difference in mean outcomes between unprivileged and privileged groups = -0.118710\n",
      "Test set: Difference in mean outcomes between unprivileged and privileged groups = -0.163953\n"
     ]
    }
   ],
   "source": [
    "min_max_scaler = MaxAbsScaler()\n",
    "dataset_orig_train.features = min_max_scaler.fit_transform(dataset_orig_train.features)\n",
    "dataset_orig_test.features = min_max_scaler.transform(dataset_orig_test.features)\n",
    "metric_scaled_train = BinaryLabelDatasetMetric(dataset_orig_train, \n",
    "                             unprivileged_groups=unprivileged_groups,\n",
    "                             privileged_groups=privileged_groups)\n",
    "display(Markdown(\"#### Scaled dataset - Verify that the scaling does not affect the group label statistics\"))\n",
    "print(\"Train set: Difference in mean outcomes between unprivileged and privileged groups = %f\" % metric_scaled_train.mean_difference())\n",
    "metric_scaled_test = BinaryLabelDatasetMetric(dataset_orig_test, \n",
    "                             unprivileged_groups=unprivileged_groups,\n",
    "                             privileged_groups=privileged_groups)\n",
    "print(\"Test set: Difference in mean outcomes between unprivileged and privileged groups = %f\" % metric_scaled_test.mean_difference())\n"
   ]
  },
  {
   "cell_type": "markdown",
   "metadata": {},
   "source": [
    "### Learn plain classifier without debiasing"
   ]
  },
  {
   "cell_type": "code",
   "execution_count": 10,
   "metadata": {},
   "outputs": [],
   "source": [
    "# Load post-processing algorithm that equalizes the odds\n",
    "# Learn parameters with debias set to False\n",
    "sess = tf.Session()\n",
    "plain_model = AdversarialDebiasing(privileged_groups = privileged_groups,\n",
    "                          unprivileged_groups = unprivileged_groups,\n",
    "                          scope_name='plain_classifier',\n",
    "                          debias=False,\n",
    "                          sess=sess)"
   ]
  },
  {
   "cell_type": "code",
   "execution_count": 11,
   "metadata": {
    "scrolled": true
   },
   "outputs": [
    {
     "name": "stdout",
     "output_type": "stream",
     "text": [
      "WARNING:tensorflow:From C:\\Users\\magic\\envs\\ai_hw\\lib\\site-packages\\aif360\\algorithms\\inprocessing\\adversarial_debiasing.py:137: The name tf.variable_scope is deprecated. Please use tf.compat.v1.variable_scope instead.\n",
      "\n"
     ]
    },
    {
     "name": "stderr",
     "output_type": "stream",
     "text": [
      "WARNING:tensorflow:From C:\\Users\\magic\\envs\\ai_hw\\lib\\site-packages\\aif360\\algorithms\\inprocessing\\adversarial_debiasing.py:137: The name tf.variable_scope is deprecated. Please use tf.compat.v1.variable_scope instead.\n",
      "\n"
     ]
    },
    {
     "name": "stdout",
     "output_type": "stream",
     "text": [
      "WARNING:tensorflow:From C:\\Users\\magic\\envs\\ai_hw\\lib\\site-packages\\aif360\\algorithms\\inprocessing\\adversarial_debiasing.py:141: The name tf.placeholder is deprecated. Please use tf.compat.v1.placeholder instead.\n",
      "\n"
     ]
    },
    {
     "name": "stderr",
     "output_type": "stream",
     "text": [
      "WARNING:tensorflow:From C:\\Users\\magic\\envs\\ai_hw\\lib\\site-packages\\aif360\\algorithms\\inprocessing\\adversarial_debiasing.py:141: The name tf.placeholder is deprecated. Please use tf.compat.v1.placeholder instead.\n",
      "\n"
     ]
    },
    {
     "name": "stdout",
     "output_type": "stream",
     "text": [
      "WARNING:tensorflow:From C:\\Users\\magic\\envs\\ai_hw\\lib\\site-packages\\aif360\\algorithms\\inprocessing\\adversarial_debiasing.py:84: The name tf.get_variable is deprecated. Please use tf.compat.v1.get_variable instead.\n",
      "\n"
     ]
    },
    {
     "name": "stderr",
     "output_type": "stream",
     "text": [
      "WARNING:tensorflow:From C:\\Users\\magic\\envs\\ai_hw\\lib\\site-packages\\aif360\\algorithms\\inprocessing\\adversarial_debiasing.py:84: The name tf.get_variable is deprecated. Please use tf.compat.v1.get_variable instead.\n",
      "\n"
     ]
    },
    {
     "name": "stdout",
     "output_type": "stream",
     "text": [
      "WARNING:tensorflow:\n",
      "The TensorFlow contrib module will not be included in TensorFlow 2.0.\n",
      "For more information, please see:\n",
      "  * https://github.com/tensorflow/community/blob/master/rfcs/20180907-contrib-sunset.md\n",
      "  * https://github.com/tensorflow/addons\n",
      "  * https://github.com/tensorflow/io (for I/O related ops)\n",
      "If you depend on functionality not listed there, please file an issue.\n",
      "\n"
     ]
    },
    {
     "name": "stderr",
     "output_type": "stream",
     "text": [
      "WARNING:tensorflow:\n",
      "The TensorFlow contrib module will not be included in TensorFlow 2.0.\n",
      "For more information, please see:\n",
      "  * https://github.com/tensorflow/community/blob/master/rfcs/20180907-contrib-sunset.md\n",
      "  * https://github.com/tensorflow/addons\n",
      "  * https://github.com/tensorflow/io (for I/O related ops)\n",
      "If you depend on functionality not listed there, please file an issue.\n",
      "\n"
     ]
    },
    {
     "name": "stdout",
     "output_type": "stream",
     "text": [
      "WARNING:tensorflow:From C:\\Users\\magic\\envs\\ai_hw\\lib\\site-packages\\aif360\\algorithms\\inprocessing\\adversarial_debiasing.py:89: calling dropout (from tensorflow.python.ops.nn_ops) with keep_prob is deprecated and will be removed in a future version.\n",
      "Instructions for updating:\n",
      "Please use `rate` instead of `keep_prob`. Rate should be set to `rate = 1 - keep_prob`.\n"
     ]
    },
    {
     "name": "stderr",
     "output_type": "stream",
     "text": [
      "WARNING:tensorflow:From C:\\Users\\magic\\envs\\ai_hw\\lib\\site-packages\\aif360\\algorithms\\inprocessing\\adversarial_debiasing.py:89: calling dropout (from tensorflow.python.ops.nn_ops) with keep_prob is deprecated and will be removed in a future version.\n",
      "Instructions for updating:\n",
      "Please use `rate` instead of `keep_prob`. Rate should be set to `rate = 1 - keep_prob`.\n"
     ]
    },
    {
     "name": "stdout",
     "output_type": "stream",
     "text": [
      "WARNING:tensorflow:From C:\\Users\\magic\\envs\\ai_hw\\lib\\site-packages\\tensorflow_core\\python\\ops\\nn_impl.py:183: where (from tensorflow.python.ops.array_ops) is deprecated and will be removed in a future version.\n",
      "Instructions for updating:\n",
      "Use tf.where in 2.0, which has the same broadcast rule as np.where\n"
     ]
    },
    {
     "name": "stderr",
     "output_type": "stream",
     "text": [
      "WARNING:tensorflow:From C:\\Users\\magic\\envs\\ai_hw\\lib\\site-packages\\tensorflow_core\\python\\ops\\nn_impl.py:183: where (from tensorflow.python.ops.array_ops) is deprecated and will be removed in a future version.\n",
      "Instructions for updating:\n",
      "Use tf.where in 2.0, which has the same broadcast rule as np.where\n"
     ]
    },
    {
     "name": "stdout",
     "output_type": "stream",
     "text": [
      "WARNING:tensorflow:From C:\\Users\\magic\\envs\\ai_hw\\lib\\site-packages\\aif360\\algorithms\\inprocessing\\adversarial_debiasing.py:159: The name tf.train.exponential_decay is deprecated. Please use tf.compat.v1.train.exponential_decay instead.\n",
      "\n"
     ]
    },
    {
     "name": "stderr",
     "output_type": "stream",
     "text": [
      "WARNING:tensorflow:From C:\\Users\\magic\\envs\\ai_hw\\lib\\site-packages\\aif360\\algorithms\\inprocessing\\adversarial_debiasing.py:159: The name tf.train.exponential_decay is deprecated. Please use tf.compat.v1.train.exponential_decay instead.\n",
      "\n"
     ]
    },
    {
     "name": "stdout",
     "output_type": "stream",
     "text": [
      "WARNING:tensorflow:From C:\\Users\\magic\\envs\\ai_hw\\lib\\site-packages\\aif360\\algorithms\\inprocessing\\adversarial_debiasing.py:161: The name tf.train.AdamOptimizer is deprecated. Please use tf.compat.v1.train.AdamOptimizer instead.\n",
      "\n"
     ]
    },
    {
     "name": "stderr",
     "output_type": "stream",
     "text": [
      "WARNING:tensorflow:From C:\\Users\\magic\\envs\\ai_hw\\lib\\site-packages\\aif360\\algorithms\\inprocessing\\adversarial_debiasing.py:161: The name tf.train.AdamOptimizer is deprecated. Please use tf.compat.v1.train.AdamOptimizer instead.\n",
      "\n"
     ]
    },
    {
     "name": "stdout",
     "output_type": "stream",
     "text": [
      "WARNING:tensorflow:From C:\\Users\\magic\\envs\\ai_hw\\lib\\site-packages\\aif360\\algorithms\\inprocessing\\adversarial_debiasing.py:165: The name tf.trainable_variables is deprecated. Please use tf.compat.v1.trainable_variables instead.\n",
      "\n"
     ]
    },
    {
     "name": "stderr",
     "output_type": "stream",
     "text": [
      "WARNING:tensorflow:From C:\\Users\\magic\\envs\\ai_hw\\lib\\site-packages\\aif360\\algorithms\\inprocessing\\adversarial_debiasing.py:165: The name tf.trainable_variables is deprecated. Please use tf.compat.v1.trainable_variables instead.\n",
      "\n"
     ]
    },
    {
     "name": "stdout",
     "output_type": "stream",
     "text": [
      "WARNING:tensorflow:From C:\\Users\\magic\\envs\\ai_hw\\lib\\site-packages\\aif360\\algorithms\\inprocessing\\adversarial_debiasing.py:187: The name tf.global_variables_initializer is deprecated. Please use tf.compat.v1.global_variables_initializer instead.\n",
      "\n"
     ]
    },
    {
     "name": "stderr",
     "output_type": "stream",
     "text": [
      "WARNING:tensorflow:From C:\\Users\\magic\\envs\\ai_hw\\lib\\site-packages\\aif360\\algorithms\\inprocessing\\adversarial_debiasing.py:187: The name tf.global_variables_initializer is deprecated. Please use tf.compat.v1.global_variables_initializer instead.\n",
      "\n"
     ]
    },
    {
     "name": "stdout",
     "output_type": "stream",
     "text": [
      "WARNING:tensorflow:From C:\\Users\\magic\\envs\\ai_hw\\lib\\site-packages\\aif360\\algorithms\\inprocessing\\adversarial_debiasing.py:188: The name tf.local_variables_initializer is deprecated. Please use tf.compat.v1.local_variables_initializer instead.\n",
      "\n"
     ]
    },
    {
     "name": "stderr",
     "output_type": "stream",
     "text": [
      "WARNING:tensorflow:From C:\\Users\\magic\\envs\\ai_hw\\lib\\site-packages\\aif360\\algorithms\\inprocessing\\adversarial_debiasing.py:188: The name tf.local_variables_initializer is deprecated. Please use tf.compat.v1.local_variables_initializer instead.\n",
      "\n"
     ]
    },
    {
     "name": "stdout",
     "output_type": "stream",
     "text": [
      "epoch 0; iter: 0; batch classifier loss: 0.684428\n",
      "epoch 1; iter: 0; batch classifier loss: 0.654683\n",
      "epoch 2; iter: 0; batch classifier loss: 0.644177\n",
      "epoch 3; iter: 0; batch classifier loss: 0.629245\n",
      "epoch 4; iter: 0; batch classifier loss: 0.667435\n",
      "epoch 5; iter: 0; batch classifier loss: 0.571988\n",
      "epoch 6; iter: 0; batch classifier loss: 0.651953\n",
      "epoch 7; iter: 0; batch classifier loss: 0.651709\n",
      "epoch 8; iter: 0; batch classifier loss: 0.607669\n",
      "epoch 9; iter: 0; batch classifier loss: 0.591457\n",
      "epoch 10; iter: 0; batch classifier loss: 0.640661\n",
      "epoch 11; iter: 0; batch classifier loss: 0.641688\n",
      "epoch 12; iter: 0; batch classifier loss: 0.656538\n",
      "epoch 13; iter: 0; batch classifier loss: 0.655103\n",
      "epoch 14; iter: 0; batch classifier loss: 0.637969\n",
      "epoch 15; iter: 0; batch classifier loss: 0.650626\n",
      "epoch 16; iter: 0; batch classifier loss: 0.644232\n",
      "epoch 17; iter: 0; batch classifier loss: 0.608136\n",
      "epoch 18; iter: 0; batch classifier loss: 0.620515\n",
      "epoch 19; iter: 0; batch classifier loss: 0.618157\n",
      "epoch 20; iter: 0; batch classifier loss: 0.621193\n",
      "epoch 21; iter: 0; batch classifier loss: 0.574956\n",
      "epoch 22; iter: 0; batch classifier loss: 0.625984\n",
      "epoch 23; iter: 0; batch classifier loss: 0.610110\n",
      "epoch 24; iter: 0; batch classifier loss: 0.619524\n",
      "epoch 25; iter: 0; batch classifier loss: 0.612904\n",
      "epoch 26; iter: 0; batch classifier loss: 0.632946\n",
      "epoch 27; iter: 0; batch classifier loss: 0.643255\n",
      "epoch 28; iter: 0; batch classifier loss: 0.595374\n",
      "epoch 29; iter: 0; batch classifier loss: 0.663059\n",
      "epoch 30; iter: 0; batch classifier loss: 0.622916\n",
      "epoch 31; iter: 0; batch classifier loss: 0.547989\n",
      "epoch 32; iter: 0; batch classifier loss: 0.604157\n",
      "epoch 33; iter: 0; batch classifier loss: 0.640242\n",
      "epoch 34; iter: 0; batch classifier loss: 0.600044\n",
      "epoch 35; iter: 0; batch classifier loss: 0.606892\n",
      "epoch 36; iter: 0; batch classifier loss: 0.585568\n",
      "epoch 37; iter: 0; batch classifier loss: 0.655683\n",
      "epoch 38; iter: 0; batch classifier loss: 0.693020\n",
      "epoch 39; iter: 0; batch classifier loss: 0.619365\n",
      "epoch 40; iter: 0; batch classifier loss: 0.670650\n",
      "epoch 41; iter: 0; batch classifier loss: 0.613333\n",
      "epoch 42; iter: 0; batch classifier loss: 0.605021\n",
      "epoch 43; iter: 0; batch classifier loss: 0.595618\n",
      "epoch 44; iter: 0; batch classifier loss: 0.588033\n",
      "epoch 45; iter: 0; batch classifier loss: 0.569244\n",
      "epoch 46; iter: 0; batch classifier loss: 0.714821\n",
      "epoch 47; iter: 0; batch classifier loss: 0.599328\n",
      "epoch 48; iter: 0; batch classifier loss: 0.657052\n",
      "epoch 49; iter: 0; batch classifier loss: 0.563072\n"
     ]
    },
    {
     "data": {
      "text/plain": [
       "<aif360.algorithms.inprocessing.adversarial_debiasing.AdversarialDebiasing at 0x28749ccf988>"
      ]
     },
     "execution_count": 11,
     "metadata": {},
     "output_type": "execute_result"
    }
   ],
   "source": [
    "plain_model.fit(dataset_orig_train)"
   ]
  },
  {
   "cell_type": "code",
   "execution_count": 12,
   "metadata": {},
   "outputs": [],
   "source": [
    "# Apply the plain model to test data\n",
    "dataset_nodebiasing_train = plain_model.predict(dataset_orig_train)\n",
    "dataset_nodebiasing_test = plain_model.predict(dataset_orig_test)"
   ]
  },
  {
   "cell_type": "code",
   "execution_count": 13,
   "metadata": {},
   "outputs": [
    {
     "data": {
      "text/markdown": [
       "#### Plain model - without debiasing - dataset metrics"
      ],
      "text/plain": [
       "<IPython.core.display.Markdown object>"
      ]
     },
     "metadata": {},
     "output_type": "display_data"
    },
    {
     "name": "stdout",
     "output_type": "stream",
     "text": [
      "Train set: Difference in mean outcomes between unprivileged and privileged groups = -0.280469\n",
      "Test set: Difference in mean outcomes between unprivileged and privileged groups = -0.333056\n"
     ]
    },
    {
     "data": {
      "text/markdown": [
       "#### Plain model - without debiasing - classification metrics"
      ],
      "text/plain": [
       "<IPython.core.display.Markdown object>"
      ]
     },
     "metadata": {},
     "output_type": "display_data"
    },
    {
     "name": "stdout",
     "output_type": "stream",
     "text": [
      "Test set: Classification accuracy = 0.686237\n",
      "Test set: Balanced classification accuracy = 0.682782\n",
      "Test set: Disparate impact = 0.572272\n",
      "Test set: Equal opportunity difference = -0.263033\n",
      "Test set: Average odds difference = -0.282778\n",
      "Test set: Theil_index = 0.190095\n"
     ]
    }
   ],
   "source": [
    "# Metrics for the dataset from plain model (without debiasing)\n",
    "display(Markdown(\"#### Plain model - without debiasing - dataset metrics\"))\n",
    "metric_dataset_nodebiasing_train = BinaryLabelDatasetMetric(dataset_nodebiasing_train, \n",
    "                                             unprivileged_groups=unprivileged_groups,\n",
    "                                             privileged_groups=privileged_groups)\n",
    "\n",
    "print(\"Train set: Difference in mean outcomes between unprivileged and privileged groups = %f\" % metric_dataset_nodebiasing_train.mean_difference())\n",
    "\n",
    "metric_dataset_nodebiasing_test = BinaryLabelDatasetMetric(dataset_nodebiasing_test, \n",
    "                                             unprivileged_groups=unprivileged_groups,\n",
    "                                             privileged_groups=privileged_groups)\n",
    "\n",
    "print(\"Test set: Difference in mean outcomes between unprivileged and privileged groups = %f\" % metric_dataset_nodebiasing_test.mean_difference())\n",
    "\n",
    "display(Markdown(\"#### Plain model - without debiasing - classification metrics\"))\n",
    "classified_metric_nodebiasing_test = ClassificationMetric(dataset_orig_test, \n",
    "                                                 dataset_nodebiasing_test,\n",
    "                                                 unprivileged_groups=unprivileged_groups,\n",
    "                                                 privileged_groups=privileged_groups)\n",
    "print(\"Test set: Classification accuracy = %f\" % classified_metric_nodebiasing_test.accuracy())\n",
    "TPR = classified_metric_nodebiasing_test.true_positive_rate()\n",
    "TNR = classified_metric_nodebiasing_test.true_negative_rate()\n",
    "bal_acc_nodebiasing_test = 0.5*(TPR+TNR)\n",
    "print(\"Test set: Balanced classification accuracy = %f\" % bal_acc_nodebiasing_test)\n",
    "print(\"Test set: Disparate impact = %f\" % classified_metric_nodebiasing_test.disparate_impact())\n",
    "print(\"Test set: Equal opportunity difference = %f\" % classified_metric_nodebiasing_test.equal_opportunity_difference())\n",
    "print(\"Test set: Average odds difference = %f\" % classified_metric_nodebiasing_test.average_odds_difference())\n",
    "print(\"Test set: Theil_index = %f\" % classified_metric_nodebiasing_test.theil_index())"
   ]
  },
  {
   "cell_type": "markdown",
   "metadata": {},
   "source": [
    "### Apply in-processing algorithm based on adversarial learning"
   ]
  },
  {
   "cell_type": "code",
   "execution_count": 14,
   "metadata": {},
   "outputs": [],
   "source": [
    "sess.close()\n",
    "tf.reset_default_graph()\n",
    "sess = tf.Session()"
   ]
  },
  {
   "cell_type": "code",
   "execution_count": 15,
   "metadata": {},
   "outputs": [],
   "source": [
    "# Learn parameters with debias set to True\n",
    "debiased_model = AdversarialDebiasing(privileged_groups = privileged_groups,\n",
    "                          unprivileged_groups = unprivileged_groups,\n",
    "                          scope_name='debiased_classifier',\n",
    "                          debias=True,\n",
    "                          sess=sess)"
   ]
  },
  {
   "cell_type": "code",
   "execution_count": 16,
   "metadata": {
    "scrolled": true
   },
   "outputs": [
    {
     "name": "stdout",
     "output_type": "stream",
     "text": [
      "epoch 0; iter: 0; batch classifier loss: 0.706012; batch adversarial loss: 0.733043\n",
      "epoch 1; iter: 0; batch classifier loss: 0.646863; batch adversarial loss: 0.723419\n",
      "epoch 2; iter: 0; batch classifier loss: 0.662500; batch adversarial loss: 0.754732\n",
      "epoch 3; iter: 0; batch classifier loss: 0.667766; batch adversarial loss: 0.720483\n",
      "epoch 4; iter: 0; batch classifier loss: 0.589196; batch adversarial loss: 0.698789\n",
      "epoch 5; iter: 0; batch classifier loss: 0.651689; batch adversarial loss: 0.728468\n",
      "epoch 6; iter: 0; batch classifier loss: 0.607682; batch adversarial loss: 0.691909\n",
      "epoch 7; iter: 0; batch classifier loss: 0.636482; batch adversarial loss: 0.708817\n",
      "epoch 8; iter: 0; batch classifier loss: 0.647917; batch adversarial loss: 0.712236\n",
      "epoch 9; iter: 0; batch classifier loss: 0.589295; batch adversarial loss: 0.702511\n",
      "epoch 10; iter: 0; batch classifier loss: 0.683063; batch adversarial loss: 0.706094\n",
      "epoch 11; iter: 0; batch classifier loss: 0.661248; batch adversarial loss: 0.688007\n",
      "epoch 12; iter: 0; batch classifier loss: 0.614657; batch adversarial loss: 0.703221\n",
      "epoch 13; iter: 0; batch classifier loss: 0.608231; batch adversarial loss: 0.689349\n",
      "epoch 14; iter: 0; batch classifier loss: 0.631585; batch adversarial loss: 0.689354\n",
      "epoch 15; iter: 0; batch classifier loss: 0.593857; batch adversarial loss: 0.705800\n",
      "epoch 16; iter: 0; batch classifier loss: 0.618046; batch adversarial loss: 0.681369\n",
      "epoch 17; iter: 0; batch classifier loss: 0.656175; batch adversarial loss: 0.676620\n",
      "epoch 18; iter: 0; batch classifier loss: 0.624348; batch adversarial loss: 0.673697\n",
      "epoch 19; iter: 0; batch classifier loss: 0.673519; batch adversarial loss: 0.667688\n",
      "epoch 20; iter: 0; batch classifier loss: 0.630073; batch adversarial loss: 0.691394\n",
      "epoch 21; iter: 0; batch classifier loss: 0.634579; batch adversarial loss: 0.655636\n",
      "epoch 22; iter: 0; batch classifier loss: 0.613773; batch adversarial loss: 0.673077\n",
      "epoch 23; iter: 0; batch classifier loss: 0.671001; batch adversarial loss: 0.652070\n",
      "epoch 24; iter: 0; batch classifier loss: 0.578103; batch adversarial loss: 0.666896\n",
      "epoch 25; iter: 0; batch classifier loss: 0.650097; batch adversarial loss: 0.685132\n",
      "epoch 26; iter: 0; batch classifier loss: 0.594698; batch adversarial loss: 0.663863\n",
      "epoch 27; iter: 0; batch classifier loss: 0.606483; batch adversarial loss: 0.667371\n",
      "epoch 28; iter: 0; batch classifier loss: 0.615429; batch adversarial loss: 0.666898\n",
      "epoch 29; iter: 0; batch classifier loss: 0.614401; batch adversarial loss: 0.672674\n",
      "epoch 30; iter: 0; batch classifier loss: 0.577055; batch adversarial loss: 0.698209\n",
      "epoch 31; iter: 0; batch classifier loss: 0.609340; batch adversarial loss: 0.693749\n",
      "epoch 32; iter: 0; batch classifier loss: 0.669130; batch adversarial loss: 0.708459\n",
      "epoch 33; iter: 0; batch classifier loss: 0.605279; batch adversarial loss: 0.658769\n",
      "epoch 34; iter: 0; batch classifier loss: 0.656839; batch adversarial loss: 0.634146\n",
      "epoch 35; iter: 0; batch classifier loss: 0.634476; batch adversarial loss: 0.684635\n",
      "epoch 36; iter: 0; batch classifier loss: 0.642988; batch adversarial loss: 0.664301\n",
      "epoch 37; iter: 0; batch classifier loss: 0.635485; batch adversarial loss: 0.681747\n",
      "epoch 38; iter: 0; batch classifier loss: 0.621797; batch adversarial loss: 0.658218\n",
      "epoch 39; iter: 0; batch classifier loss: 0.668864; batch adversarial loss: 0.672145\n",
      "epoch 40; iter: 0; batch classifier loss: 0.632727; batch adversarial loss: 0.674822\n",
      "epoch 41; iter: 0; batch classifier loss: 0.616097; batch adversarial loss: 0.703045\n",
      "epoch 42; iter: 0; batch classifier loss: 0.621855; batch adversarial loss: 0.673675\n",
      "epoch 43; iter: 0; batch classifier loss: 0.622458; batch adversarial loss: 0.681002\n",
      "epoch 44; iter: 0; batch classifier loss: 0.614632; batch adversarial loss: 0.676379\n",
      "epoch 45; iter: 0; batch classifier loss: 0.601266; batch adversarial loss: 0.703801\n",
      "epoch 46; iter: 0; batch classifier loss: 0.666721; batch adversarial loss: 0.687833\n",
      "epoch 47; iter: 0; batch classifier loss: 0.666755; batch adversarial loss: 0.678673\n",
      "epoch 48; iter: 0; batch classifier loss: 0.665058; batch adversarial loss: 0.715870\n",
      "epoch 49; iter: 0; batch classifier loss: 0.654167; batch adversarial loss: 0.676443\n"
     ]
    },
    {
     "data": {
      "text/plain": [
       "<aif360.algorithms.inprocessing.adversarial_debiasing.AdversarialDebiasing at 0x2874b3f4688>"
      ]
     },
     "execution_count": 16,
     "metadata": {},
     "output_type": "execute_result"
    }
   ],
   "source": [
    "debiased_model.fit(dataset_orig_train)"
   ]
  },
  {
   "cell_type": "code",
   "execution_count": 17,
   "metadata": {},
   "outputs": [],
   "source": [
    "# Apply the plain model to test data\n",
    "dataset_debiasing_train = debiased_model.predict(dataset_orig_train)\n",
    "dataset_debiasing_test = debiased_model.predict(dataset_orig_test)"
   ]
  },
  {
   "cell_type": "code",
   "execution_count": 18,
   "metadata": {},
   "outputs": [
    {
     "data": {
      "text/markdown": [
       "#### Plain model - without debiasing - dataset metrics"
      ],
      "text/plain": [
       "<IPython.core.display.Markdown object>"
      ]
     },
     "metadata": {},
     "output_type": "display_data"
    },
    {
     "name": "stdout",
     "output_type": "stream",
     "text": [
      "Train set: Difference in mean outcomes between unprivileged and privileged groups = -0.280469\n",
      "Test set: Difference in mean outcomes between unprivileged and privileged groups = -0.333056\n"
     ]
    },
    {
     "data": {
      "text/markdown": [
       "#### Model - with debiasing - dataset metrics"
      ],
      "text/plain": [
       "<IPython.core.display.Markdown object>"
      ]
     },
     "metadata": {},
     "output_type": "display_data"
    },
    {
     "name": "stdout",
     "output_type": "stream",
     "text": [
      "Train set: Difference in mean outcomes between unprivileged and privileged groups = 0.005849\n",
      "Test set: Difference in mean outcomes between unprivileged and privileged groups = -0.037997\n"
     ]
    },
    {
     "data": {
      "text/markdown": [
       "#### Plain model - without debiasing - classification metrics"
      ],
      "text/plain": [
       "<IPython.core.display.Markdown object>"
      ]
     },
     "metadata": {},
     "output_type": "display_data"
    },
    {
     "name": "stdout",
     "output_type": "stream",
     "text": [
      "Test set: Classification accuracy = 0.686237\n",
      "Test set: Balanced classification accuracy = 0.682782\n",
      "Test set: Disparate impact = 0.572272\n",
      "Test set: Equal opportunity difference = -0.263033\n",
      "Test set: Average odds difference = -0.282778\n",
      "Test set: Theil_index = 0.190095\n"
     ]
    },
    {
     "data": {
      "text/markdown": [
       "#### Model - with debiasing - classification metrics"
      ],
      "text/plain": [
       "<IPython.core.display.Markdown object>"
      ]
     },
     "metadata": {},
     "output_type": "display_data"
    },
    {
     "name": "stdout",
     "output_type": "stream",
     "text": [
      "Test set: Classification accuracy = 0.669823\n",
      "Test set: Balanced classification accuracy = 0.668435\n",
      "Test set: Disparate impact = 0.932017\n",
      "Test set: Equal opportunity difference = 0.052087\n",
      "Test set: Average odds difference = 0.012872\n",
      "Test set: Theil_index = 0.223116\n"
     ]
    }
   ],
   "source": [
    "# Metrics for the dataset from plain model (without debiasing)\n",
    "display(Markdown(\"#### Plain model - without debiasing - dataset metrics\"))\n",
    "print(\"Train set: Difference in mean outcomes between unprivileged and privileged groups = %f\" % metric_dataset_nodebiasing_train.mean_difference())\n",
    "print(\"Test set: Difference in mean outcomes between unprivileged and privileged groups = %f\" % metric_dataset_nodebiasing_test.mean_difference())\n",
    "\n",
    "# Metrics for the dataset from model with debiasing\n",
    "display(Markdown(\"#### Model - with debiasing - dataset metrics\"))\n",
    "metric_dataset_debiasing_train = BinaryLabelDatasetMetric(dataset_debiasing_train, \n",
    "                                             unprivileged_groups=unprivileged_groups,\n",
    "                                             privileged_groups=privileged_groups)\n",
    "\n",
    "print(\"Train set: Difference in mean outcomes between unprivileged and privileged groups = %f\" % metric_dataset_debiasing_train.mean_difference())\n",
    "\n",
    "metric_dataset_debiasing_test = BinaryLabelDatasetMetric(dataset_debiasing_test, \n",
    "                                             unprivileged_groups=unprivileged_groups,\n",
    "                                             privileged_groups=privileged_groups)\n",
    "\n",
    "print(\"Test set: Difference in mean outcomes between unprivileged and privileged groups = %f\" % metric_dataset_debiasing_test.mean_difference())\n",
    "\n",
    "\n",
    "\n",
    "display(Markdown(\"#### Plain model - without debiasing - classification metrics\"))\n",
    "print(\"Test set: Classification accuracy = %f\" % classified_metric_nodebiasing_test.accuracy())\n",
    "TPR = classified_metric_nodebiasing_test.true_positive_rate()\n",
    "TNR = classified_metric_nodebiasing_test.true_negative_rate()\n",
    "bal_acc_nodebiasing_test = 0.5*(TPR+TNR)\n",
    "print(\"Test set: Balanced classification accuracy = %f\" % bal_acc_nodebiasing_test)\n",
    "print(\"Test set: Disparate impact = %f\" % classified_metric_nodebiasing_test.disparate_impact())\n",
    "print(\"Test set: Equal opportunity difference = %f\" % classified_metric_nodebiasing_test.equal_opportunity_difference())\n",
    "print(\"Test set: Average odds difference = %f\" % classified_metric_nodebiasing_test.average_odds_difference())\n",
    "print(\"Test set: Theil_index = %f\" % classified_metric_nodebiasing_test.theil_index())\n",
    "\n",
    "\n",
    "\n",
    "display(Markdown(\"#### Model - with debiasing - classification metrics\"))\n",
    "classified_metric_debiasing_test = ClassificationMetric(dataset_orig_test, \n",
    "                                                 dataset_debiasing_test,\n",
    "                                                 unprivileged_groups=unprivileged_groups,\n",
    "                                                 privileged_groups=privileged_groups)\n",
    "print(\"Test set: Classification accuracy = %f\" % classified_metric_debiasing_test.accuracy())\n",
    "TPR = classified_metric_debiasing_test.true_positive_rate()\n",
    "TNR = classified_metric_debiasing_test.true_negative_rate()\n",
    "bal_acc_debiasing_test = 0.5*(TPR+TNR)\n",
    "print(\"Test set: Balanced classification accuracy = %f\" % bal_acc_debiasing_test)\n",
    "print(\"Test set: Disparate impact = %f\" % classified_metric_debiasing_test.disparate_impact())\n",
    "print(\"Test set: Equal opportunity difference = %f\" % classified_metric_debiasing_test.equal_opportunity_difference())\n",
    "print(\"Test set: Average odds difference = %f\" % classified_metric_debiasing_test.average_odds_difference())\n",
    "print(\"Test set: Theil_index = %f\" % classified_metric_debiasing_test.theil_index())"
   ]
  },
  {
   "cell_type": "code",
   "execution_count": 103,
   "metadata": {},
   "outputs": [
    {
     "data": {
      "image/png": "[encoded data removed]",
      "text/plain": [
       "<Figure size 2592x576 with 4 Axes>"
      ]
     },
     "metadata": {
      "needs_background": "light"
     },
     "output_type": "display_data"
    }
   ],
   "source": [
    "def plot_metrics(metrics_before, metrics_after, \n",
    "                 sensitive_attr='Race',\n",
    "                 mitigation='Adversarial De-biasing', dataset='Compas'):\n",
    "    total = 4; cols = 4\n",
    "    rows = total //cols; rows += total % cols\n",
    "    pos = range(1, total+1)\n",
    "    \n",
    "    fig = plt.figure(figsize=(36,rows*8))\n",
    "    x_pos = [1,2]\n",
    "    kwargs = {\n",
    "        'color': ['grey', 'teal'],\n",
    "        'tick_label': ['Before mitigation', 'After mitigation']\n",
    "    }\n",
    "    \n",
    "    i = 0; subplot_pad=20\n",
    "    ax = fig.add_subplot(rows, cols, pos[i])\n",
    "    ax.set_title('Classification Accuracy Difference', pad=subplot_pad)\n",
    "    ax.bar(x_pos, [metrics_before.accuracy(), metrics_after.accuracy()],\n",
    "                  **kwargs)\n",
    "\n",
    "    metrics = {'Demographic Parity Difference': 'mean_difference',\n",
    "               'Disparate Impact': 'disparate_impact',\n",
    "               'Equal Opportunity Difference': 'equal_opportunity_difference'}\n",
    "    \n",
    "    for title, methodname in  metrics.items():\n",
    "        i += 1;\n",
    "        ax = fig.add_subplot(rows, cols, pos[i])\n",
    "        ax.set_title(title, pad=subplot_pad)\n",
    "        ax.set_ylim([-0.5,1])\n",
    "        ax.bar(x_pos, \n",
    "                     [getattr(metrics_before, methodname)(), getattr(metrics_after, methodname)()],\n",
    "                     **kwargs)\n",
    "        \n",
    "    fig.subplots_adjust(bottom=0.2)\n",
    "    title = 'Impact of {} on {} dataset - {}'.format(mitigation, dataset, sensitive_attr)\n",
    "    fig.suptitle(title, y=0.08)\n",
    "    fig.savefig('figures/'+title+'.png')\n",
    "    plt.show()\n",
    "\n",
    "font = {'font.size'   : 18,\n",
    "        'figure.titlesize': 30}\n",
    "plt.rcParams.update(font)\n",
    "\n",
    "plot_metrics(classified_metric_nodebiasing_test, classified_metric_debiasing_test)"
   ]
  },
  {
   "cell_type": "markdown",
   "metadata": {},
   "source": [
    "\n",
    "    References:\n",
    "    [1] B. H. Zhang, B. Lemoine, and M. Mitchell, \"Mitigating UnwantedBiases with Adversarial Learning,\" \n",
    "    AAAI/ACM Conference on Artificial Intelligence, Ethics, and Society, 2018."
   ]
  },
  {
   "cell_type": "code",
   "execution_count": null,
   "metadata": {},
   "outputs": [],
   "source": []
  }
 ],
 "metadata": {
  "kernelspec": {
   "display_name": "Python 3.7.4 64-bit ('ai_hw': virtualenv)",
   "language": "python",
   "name": "python37464bitaihwvirtualenvdb766f6d2a3a4d93976d81db9b668609"
  },
  "language_info": {
   "codemirror_mode": {
    "name": "ipython",
    "version": 3
   },
   "file_extension": ".py",
   "mimetype": "text/x-python",
   "name": "python",
   "nbconvert_exporter": "python",
   "pygments_lexer": "ipython3",
   "version": "3.7.4"
  }
 },
 "nbformat": 4,
 "nbformat_minor": 2
}
