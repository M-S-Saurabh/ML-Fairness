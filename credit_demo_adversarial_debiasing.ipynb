{
 "cells": [
  {
   "cell_type": "markdown",
   "metadata": {},
   "source": [
    "#### This notebook demonstrates the use of adversarial debiasing algorithm to learn a fair classifier.\n",
    "Adversarial debiasing [1] is an in-processing technique that learns a classifier to maximize prediction accuracy and simultaneously reduce an adversary's ability to determine the protected attribute from the predictions. This approach leads to a fair classifier as the predictions cannot carry any group discrimination information that the adversary can exploit. We will see how to use this algorithm for learning models with and without fairness constraints and apply them on the Adult dataset."
   ]
  },
  {
   "cell_type": "code",
   "execution_count": 1,
   "metadata": {
    "pycharm": {
     "is_executing": false
    }
   },
   "outputs": [
    {
     "name": "stderr",
     "output_type": "stream",
     "text": [
      "C:\\Users\\anush\\Anaconda3\\lib\\site-packages\\tensorflow\\python\\framework\\dtypes.py:516: FutureWarning: Passing (type, 1) or '1type' as a synonym of type is deprecated; in a future version of numpy, it will be understood as (type, (1,)) / '(1,)type'.\n",
      "  _np_qint8 = np.dtype([(\"qint8\", np.int8, 1)])\n",
      "C:\\Users\\anush\\Anaconda3\\lib\\site-packages\\tensorflow\\python\\framework\\dtypes.py:517: FutureWarning: Passing (type, 1) or '1type' as a synonym of type is deprecated; in a future version of numpy, it will be understood as (type, (1,)) / '(1,)type'.\n",
      "  _np_quint8 = np.dtype([(\"quint8\", np.uint8, 1)])\n",
      "C:\\Users\\anush\\Anaconda3\\lib\\site-packages\\tensorflow\\python\\framework\\dtypes.py:518: FutureWarning: Passing (type, 1) or '1type' as a synonym of type is deprecated; in a future version of numpy, it will be understood as (type, (1,)) / '(1,)type'.\n",
      "  _np_qint16 = np.dtype([(\"qint16\", np.int16, 1)])\n",
      "C:\\Users\\anush\\Anaconda3\\lib\\site-packages\\tensorflow\\python\\framework\\dtypes.py:519: FutureWarning: Passing (type, 1) or '1type' as a synonym of type is deprecated; in a future version of numpy, it will be understood as (type, (1,)) / '(1,)type'.\n",
      "  _np_quint16 = np.dtype([(\"quint16\", np.uint16, 1)])\n",
      "C:\\Users\\anush\\Anaconda3\\lib\\site-packages\\tensorflow\\python\\framework\\dtypes.py:520: FutureWarning: Passing (type, 1) or '1type' as a synonym of type is deprecated; in a future version of numpy, it will be understood as (type, (1,)) / '(1,)type'.\n",
      "  _np_qint32 = np.dtype([(\"qint32\", np.int32, 1)])\n",
      "C:\\Users\\anush\\Anaconda3\\lib\\site-packages\\tensorflow\\python\\framework\\dtypes.py:525: FutureWarning: Passing (type, 1) or '1type' as a synonym of type is deprecated; in a future version of numpy, it will be understood as (type, (1,)) / '(1,)type'.\n",
      "  np_resource = np.dtype([(\"resource\", np.ubyte, 1)])\n",
      "C:\\Users\\anush\\Anaconda3\\lib\\site-packages\\tensorboard\\compat\\tensorflow_stub\\dtypes.py:541: FutureWarning: Passing (type, 1) or '1type' as a synonym of type is deprecated; in a future version of numpy, it will be understood as (type, (1,)) / '(1,)type'.\n",
      "  _np_qint8 = np.dtype([(\"qint8\", np.int8, 1)])\n",
      "C:\\Users\\anush\\Anaconda3\\lib\\site-packages\\tensorboard\\compat\\tensorflow_stub\\dtypes.py:542: FutureWarning: Passing (type, 1) or '1type' as a synonym of type is deprecated; in a future version of numpy, it will be understood as (type, (1,)) / '(1,)type'.\n",
      "  _np_quint8 = np.dtype([(\"quint8\", np.uint8, 1)])\n",
      "C:\\Users\\anush\\Anaconda3\\lib\\site-packages\\tensorboard\\compat\\tensorflow_stub\\dtypes.py:543: FutureWarning: Passing (type, 1) or '1type' as a synonym of type is deprecated; in a future version of numpy, it will be understood as (type, (1,)) / '(1,)type'.\n",
      "  _np_qint16 = np.dtype([(\"qint16\", np.int16, 1)])\n",
      "C:\\Users\\anush\\Anaconda3\\lib\\site-packages\\tensorboard\\compat\\tensorflow_stub\\dtypes.py:544: FutureWarning: Passing (type, 1) or '1type' as a synonym of type is deprecated; in a future version of numpy, it will be understood as (type, (1,)) / '(1,)type'.\n",
      "  _np_quint16 = np.dtype([(\"quint16\", np.uint16, 1)])\n",
      "C:\\Users\\anush\\Anaconda3\\lib\\site-packages\\tensorboard\\compat\\tensorflow_stub\\dtypes.py:545: FutureWarning: Passing (type, 1) or '1type' as a synonym of type is deprecated; in a future version of numpy, it will be understood as (type, (1,)) / '(1,)type'.\n",
      "  _np_qint32 = np.dtype([(\"qint32\", np.int32, 1)])\n",
      "C:\\Users\\anush\\Anaconda3\\lib\\site-packages\\tensorboard\\compat\\tensorflow_stub\\dtypes.py:550: FutureWarning: Passing (type, 1) or '1type' as a synonym of type is deprecated; in a future version of numpy, it will be understood as (type, (1,)) / '(1,)type'.\n",
      "  np_resource = np.dtype([(\"resource\", np.ubyte, 1)])\n"
     ]
    }
   ],
   "source": [
    "%matplotlib inline\n",
    "# Load all necessary packages\n",
    "import sys\n",
    "sys.path.append(\"../\")\n",
    "from aif360.datasets import BinaryLabelDataset\n",
    "from aif360.datasets import AdultDataset, GermanDataset, CompasDataset\n",
    "from aif360.metrics import BinaryLabelDatasetMetric\n",
    "from aif360.metrics import ClassificationMetric\n",
    "from aif360.metrics.utils import compute_boolean_conditioning_vector\n",
    "\n",
    "from aif360.algorithms.preprocessing.optim_preproc_helpers.data_preproc_functions import load_preproc_data_adult, load_preproc_data_compas, load_preproc_data_german\n",
    "\n",
    "from aif360.algorithms.inprocessing.adversarial_debiasing import AdversarialDebiasing\n",
    "\n",
    "from sklearn.linear_model import LogisticRegression\n",
    "from sklearn.preprocessing import StandardScaler, MaxAbsScaler\n",
    "from sklearn.metrics import accuracy_score\n",
    "\n",
    "from IPython.display import Markdown, display\n",
    "import matplotlib.pyplot as plt\n",
    "\n",
    "import tensorflow as tf"
   ]
  },
  {
   "cell_type": "markdown",
   "metadata": {},
   "source": [
    "#### Load dataset and set options"
   ]
  },
  {
   "cell_type": "code",
   "execution_count": 2,
   "metadata": {
    "pycharm": {
     "is_executing": false
    }
   },
   "outputs": [],
   "source": [
    "# Get the dataset and split into train and test\n",
    "dataset_orig = load_preproc_data_german()\n",
    "\n",
    "privileged_groups = [{'sex': 1}]\n",
    "unprivileged_groups = [{'sex': 0}]\n",
    "\n",
    "dataset_orig_train, dataset_orig_test = dataset_orig.split([0.7], shuffle=True)"
   ]
  },
  {
   "cell_type": "code",
   "execution_count": 3,
   "metadata": {},
   "outputs": [],
   "source": [
    "# print(type(dataset_orig_train))"
   ]
  },
  {
   "cell_type": "code",
   "execution_count": 4,
   "metadata": {
    "pycharm": {
     "is_executing": false,
     "name": "#%%\n"
    }
   },
   "outputs": [
    {
     "data": {
      "text/markdown": [
       "#### Training Dataset shape"
      ],
      "text/plain": [
       "<IPython.core.display.Markdown object>"
      ]
     },
     "metadata": {},
     "output_type": "display_data"
    },
    {
     "name": "stdout",
     "output_type": "stream",
     "text": [
      "(700, 11)\n"
     ]
    },
    {
     "data": {
      "text/markdown": [
       "#### Favorable and unfavorable labels"
      ],
      "text/plain": [
       "<IPython.core.display.Markdown object>"
      ]
     },
     "metadata": {},
     "output_type": "display_data"
    },
    {
     "name": "stdout",
     "output_type": "stream",
     "text": [
      "1.0 2.0\n"
     ]
    },
    {
     "data": {
      "text/markdown": [
       "#### Protected attribute names"
      ],
      "text/plain": [
       "<IPython.core.display.Markdown object>"
      ]
     },
     "metadata": {},
     "output_type": "display_data"
    },
    {
     "name": "stdout",
     "output_type": "stream",
     "text": [
      "['sex', 'age']\n"
     ]
    },
    {
     "data": {
      "text/markdown": [
       "#### Privileged and unprivileged protected attribute values"
      ],
      "text/plain": [
       "<IPython.core.display.Markdown object>"
      ]
     },
     "metadata": {},
     "output_type": "display_data"
    },
    {
     "name": "stdout",
     "output_type": "stream",
     "text": [
      "[array([1.]), array([1.])] [array([0.]), array([0.])]\n"
     ]
    },
    {
     "data": {
      "text/markdown": [
       "#### Dataset feature names"
      ],
      "text/plain": [
       "<IPython.core.display.Markdown object>"
      ]
     },
     "metadata": {},
     "output_type": "display_data"
    },
    {
     "name": "stdout",
     "output_type": "stream",
     "text": [
      "['age', 'sex', 'credit_history=Delay', 'credit_history=None/Paid', 'credit_history=Other', 'savings=500+', 'savings=<500', 'savings=Unknown/None', 'employment=1-4 years', 'employment=4+ years', 'employment=Unemployed']\n"
     ]
    }
   ],
   "source": [
    "# print out some labels, names, etc.\n",
    "display(Markdown(\"#### Training Dataset shape\"))\n",
    "print(dataset_orig_train.features.shape)\n",
    "display(Markdown(\"#### Favorable and unfavorable labels\"))\n",
    "print(dataset_orig_train.favorable_label, dataset_orig_train.unfavorable_label)\n",
    "display(Markdown(\"#### Protected attribute names\"))\n",
    "print(dataset_orig_train.protected_attribute_names)\n",
    "display(Markdown(\"#### Privileged and unprivileged protected attribute values\"))\n",
    "print(dataset_orig_train.privileged_protected_attributes, \n",
    "      dataset_orig_train.unprivileged_protected_attributes)\n",
    "display(Markdown(\"#### Dataset feature names\"))\n",
    "print(dataset_orig_train.feature_names)"
   ]
  },
  {
   "cell_type": "markdown",
   "metadata": {
    "pycharm": {
     "name": "#%% md\n"
    }
   },
   "source": [
    "#### Metric for original training data"
   ]
  },
  {
   "cell_type": "code",
   "execution_count": 5,
   "metadata": {
    "pycharm": {
     "is_executing": false
    }
   },
   "outputs": [
    {
     "data": {
      "text/markdown": [
       "#### Original training dataset"
      ],
      "text/plain": [
       "<IPython.core.display.Markdown object>"
      ]
     },
     "metadata": {},
     "output_type": "display_data"
    },
    {
     "name": "stdout",
     "output_type": "stream",
     "text": [
      "Train set: Difference in mean outcomes between unprivileged and privileged groups = -0.058036\n",
      "Test set: Difference in mean outcomes between unprivileged and privileged groups = -0.115084\n"
     ]
    }
   ],
   "source": [
    "# Metric for the original dataset\n",
    "metric_orig_train = BinaryLabelDatasetMetric(dataset_orig_train, \n",
    "                                             unprivileged_groups=unprivileged_groups,\n",
    "                                             privileged_groups=privileged_groups)\n",
    "display(Markdown(\"#### Original training dataset\"))\n",
    "print(\"Train set: Difference in mean outcomes between unprivileged and privileged groups = %f\" % metric_orig_train.mean_difference())\n",
    "metric_orig_test = BinaryLabelDatasetMetric(dataset_orig_test, \n",
    "                                             unprivileged_groups=unprivileged_groups,\n",
    "                                             privileged_groups=privileged_groups)\n",
    "print(\"Test set: Difference in mean outcomes between unprivileged and privileged groups = %f\" % metric_orig_test.mean_difference())"
   ]
  },
  {
   "cell_type": "code",
   "execution_count": 6,
   "metadata": {
    "pycharm": {
     "is_executing": false,
     "name": "#%%\n"
    }
   },
   "outputs": [
    {
     "data": {
      "text/markdown": [
       "#### Scaled dataset - Verify that the scaling does not affect the group label statistics"
      ],
      "text/plain": [
       "<IPython.core.display.Markdown object>"
      ]
     },
     "metadata": {},
     "output_type": "display_data"
    },
    {
     "name": "stdout",
     "output_type": "stream",
     "text": [
      "Train set: Difference in mean outcomes between unprivileged and privileged groups = -0.058036\n",
      "Test set: Difference in mean outcomes between unprivileged and privileged groups = -0.115084\n"
     ]
    }
   ],
   "source": [
    "min_max_scaler = MaxAbsScaler()\n",
    "dataset_orig_train.features = min_max_scaler.fit_transform(dataset_orig_train.features)\n",
    "dataset_orig_test.features = min_max_scaler.transform(dataset_orig_test.features)\n",
    "metric_scaled_train = BinaryLabelDatasetMetric(dataset_orig_train, \n",
    "                             unprivileged_groups=unprivileged_groups,\n",
    "                             privileged_groups=privileged_groups)\n",
    "display(Markdown(\"#### Scaled dataset - Verify that the scaling does not affect the group label statistics\"))\n",
    "print(\"Train set: Difference in mean outcomes between unprivileged and privileged groups = %f\" % metric_scaled_train.mean_difference())\n",
    "metric_scaled_test = BinaryLabelDatasetMetric(dataset_orig_test, \n",
    "                             unprivileged_groups=unprivileged_groups,\n",
    "                             privileged_groups=privileged_groups)\n",
    "print(\"Test set: Difference in mean outcomes between unprivileged and privileged groups = %f\" % metric_scaled_test.mean_difference())\n"
   ]
  },
  {
   "cell_type": "markdown",
   "metadata": {
    "pycharm": {
     "name": "#%% md\n"
    }
   },
   "source": [
    "### Learn plan classifier without debiasing"
   ]
  },
  {
   "cell_type": "code",
   "execution_count": 7,
   "metadata": {
    "pycharm": {
     "name": "#%%\n"
    }
   },
   "outputs": [],
   "source": [
    "# Load post-processing algorithm that equalizes the odds\n",
    "# Learn parameters with debias set to False\n",
    "sess = tf.Session()\n",
    "plain_model = AdversarialDebiasing(privileged_groups = privileged_groups,\n",
    "                          unprivileged_groups = unprivileged_groups,\n",
    "                          scope_name='plain_classifier',\n",
    "                          debias=False,\n",
    "                          sess=sess)"
   ]
  },
  {
   "cell_type": "code",
   "execution_count": 8,
   "metadata": {
    "pycharm": {
     "is_executing": false
    }
   },
   "outputs": [
    {
     "name": "stdout",
     "output_type": "stream",
     "text": [
      "WARNING:tensorflow:From ..\\aif360\\algorithms\\inprocessing\\adversarial_debiasing.py:141: The name tf.placeholder is deprecated. Please use tf.compat.v1.placeholder instead.\n",
      "\n",
      "WARNING:tensorflow:From ..\\aif360\\algorithms\\inprocessing\\adversarial_debiasing.py:83: The name tf.variable_scope is deprecated. Please use tf.compat.v1.variable_scope instead.\n",
      "\n",
      "WARNING:tensorflow:From ..\\aif360\\algorithms\\inprocessing\\adversarial_debiasing.py:84: The name tf.get_variable is deprecated. Please use tf.compat.v1.get_variable instead.\n",
      "\n",
      "WARNING:tensorflow:\n",
      "The TensorFlow contrib module will not be included in TensorFlow 2.0.\n",
      "For more information, please see:\n",
      "  * https://github.com/tensorflow/community/blob/master/rfcs/20180907-contrib-sunset.md\n",
      "  * https://github.com/tensorflow/addons\n",
      "  * https://github.com/tensorflow/io (for I/O related ops)\n",
      "If you depend on functionality not listed there, please file an issue.\n",
      "\n",
      "WARNING:tensorflow:From ..\\aif360\\algorithms\\inprocessing\\adversarial_debiasing.py:89: calling dropout (from tensorflow.python.ops.nn_ops) with keep_prob is deprecated and will be removed in a future version.\n",
      "Instructions for updating:\n",
      "Please use `rate` instead of `keep_prob`. Rate should be set to `rate = 1 - keep_prob`.\n",
      "WARNING:tensorflow:From C:\\Users\\anush\\Anaconda3\\lib\\site-packages\\tensorflow\\python\\ops\\nn_impl.py:180: add_dispatch_support.<locals>.wrapper (from tensorflow.python.ops.array_ops) is deprecated and will be removed in a future version.\n",
      "Instructions for updating:\n",
      "Use tf.where in 2.0, which has the same broadcast rule as np.where\n",
      "WARNING:tensorflow:From ..\\aif360\\algorithms\\inprocessing\\adversarial_debiasing.py:159: The name tf.train.exponential_decay is deprecated. Please use tf.compat.v1.train.exponential_decay instead.\n",
      "\n",
      "WARNING:tensorflow:From ..\\aif360\\algorithms\\inprocessing\\adversarial_debiasing.py:161: The name tf.train.AdamOptimizer is deprecated. Please use tf.compat.v1.train.AdamOptimizer instead.\n",
      "\n",
      "WARNING:tensorflow:From ..\\aif360\\algorithms\\inprocessing\\adversarial_debiasing.py:165: The name tf.trainable_variables is deprecated. Please use tf.compat.v1.trainable_variables instead.\n",
      "\n",
      "WARNING:tensorflow:From ..\\aif360\\algorithms\\inprocessing\\adversarial_debiasing.py:187: The name tf.global_variables_initializer is deprecated. Please use tf.compat.v1.global_variables_initializer instead.\n",
      "\n",
      "epoch 0; iter: 0; batch classifier loss: 0.769426\n",
      "epoch 1; iter: 0; batch classifier loss: 0.666714\n",
      "epoch 2; iter: 0; batch classifier loss: 0.634194\n",
      "epoch 3; iter: 0; batch classifier loss: 0.624004\n",
      "epoch 4; iter: 0; batch classifier loss: 0.608571\n",
      "epoch 5; iter: 0; batch classifier loss: 0.611630\n",
      "epoch 6; iter: 0; batch classifier loss: 0.576460\n",
      "epoch 7; iter: 0; batch classifier loss: 0.630478\n",
      "epoch 8; iter: 0; batch classifier loss: 0.602088\n",
      "epoch 9; iter: 0; batch classifier loss: 0.617473\n",
      "epoch 10; iter: 0; batch classifier loss: 0.566481\n",
      "epoch 11; iter: 0; batch classifier loss: 0.655014\n",
      "epoch 12; iter: 0; batch classifier loss: 0.579690\n",
      "epoch 13; iter: 0; batch classifier loss: 0.541465\n",
      "epoch 14; iter: 0; batch classifier loss: 0.598883\n",
      "epoch 15; iter: 0; batch classifier loss: 0.561132\n",
      "epoch 16; iter: 0; batch classifier loss: 0.630153\n",
      "epoch 17; iter: 0; batch classifier loss: 0.580134\n",
      "epoch 18; iter: 0; batch classifier loss: 0.568426\n",
      "epoch 19; iter: 0; batch classifier loss: 0.580942\n",
      "epoch 20; iter: 0; batch classifier loss: 0.611075\n",
      "epoch 21; iter: 0; batch classifier loss: 0.566901\n",
      "epoch 22; iter: 0; batch classifier loss: 0.550374\n",
      "epoch 23; iter: 0; batch classifier loss: 0.628000\n",
      "epoch 24; iter: 0; batch classifier loss: 0.559546\n",
      "epoch 25; iter: 0; batch classifier loss: 0.555495\n",
      "epoch 26; iter: 0; batch classifier loss: 0.586260\n",
      "epoch 27; iter: 0; batch classifier loss: 0.569722\n",
      "epoch 28; iter: 0; batch classifier loss: 0.569757\n",
      "epoch 29; iter: 0; batch classifier loss: 0.592703\n",
      "epoch 30; iter: 0; batch classifier loss: 0.584022\n",
      "epoch 31; iter: 0; batch classifier loss: 0.578291\n",
      "epoch 32; iter: 0; batch classifier loss: 0.573767\n",
      "epoch 33; iter: 0; batch classifier loss: 0.591903\n",
      "epoch 34; iter: 0; batch classifier loss: 0.578934\n",
      "epoch 35; iter: 0; batch classifier loss: 0.556945\n",
      "epoch 36; iter: 0; batch classifier loss: 0.501865\n",
      "epoch 37; iter: 0; batch classifier loss: 0.595237\n",
      "epoch 38; iter: 0; batch classifier loss: 0.593185\n",
      "epoch 39; iter: 0; batch classifier loss: 0.550404\n",
      "epoch 40; iter: 0; batch classifier loss: 0.556044\n",
      "epoch 41; iter: 0; batch classifier loss: 0.552923\n",
      "epoch 42; iter: 0; batch classifier loss: 0.551062\n",
      "epoch 43; iter: 0; batch classifier loss: 0.535393\n",
      "epoch 44; iter: 0; batch classifier loss: 0.559656\n",
      "epoch 45; iter: 0; batch classifier loss: 0.594149\n",
      "epoch 46; iter: 0; batch classifier loss: 0.610736\n",
      "epoch 47; iter: 0; batch classifier loss: 0.632214\n",
      "epoch 48; iter: 0; batch classifier loss: 0.545039\n",
      "epoch 49; iter: 0; batch classifier loss: 0.515250\n"
     ]
    },
    {
     "data": {
      "text/plain": [
       "<aif360.algorithms.inprocessing.adversarial_debiasing.AdversarialDebiasing at 0x24cab681e48>"
      ]
     },
     "execution_count": 8,
     "metadata": {},
     "output_type": "execute_result"
    }
   ],
   "source": [
    "plain_model.fit(dataset_orig_train)"
   ]
  },
  {
   "cell_type": "code",
   "execution_count": 9,
   "metadata": {
    "pycharm": {
     "is_executing": false
    },
    "scrolled": true
   },
   "outputs": [],
   "source": [
    "# plain_model.fit(dataset_orig_train)"
   ]
  },
  {
   "cell_type": "code",
   "execution_count": 10,
   "metadata": {
    "pycharm": {
     "is_executing": false
    }
   },
   "outputs": [],
   "source": [
    "# Apply the plain model to test data\n",
    "dataset_nodebiasing_train = plain_model.predict(dataset_orig_train)\n",
    "dataset_nodebiasing_test = plain_model.predict(dataset_orig_test)"
   ]
  },
  {
   "cell_type": "code",
   "execution_count": 11,
   "metadata": {
    "pycharm": {
     "is_executing": false
    }
   },
   "outputs": [
    {
     "data": {
      "text/markdown": [
       "#### Plain model - without debiasing - dataset metrics"
      ],
      "text/plain": [
       "<IPython.core.display.Markdown object>"
      ]
     },
     "metadata": {},
     "output_type": "display_data"
    },
    {
     "name": "stdout",
     "output_type": "stream",
     "text": [
      "Train set: Difference in mean outcomes between unprivileged and privileged groups = -0.120536\n",
      "Test set: Difference in mean outcomes between unprivileged and privileged groups = -0.113780\n"
     ]
    },
    {
     "data": {
      "text/markdown": [
       "#### Plain model - without debiasing - classification metrics"
      ],
      "text/plain": [
       "<IPython.core.display.Markdown object>"
      ]
     },
     "metadata": {},
     "output_type": "display_data"
    },
    {
     "name": "stdout",
     "output_type": "stream",
     "text": [
      "Test set: Classification accuracy = 0.713333\n",
      "Test set: Balanced classification accuracy = 0.539744\n",
      "Test set: Disparate impact = 0.881802\n",
      "Test set: Equal opportunity difference = -0.036338\n",
      "Test set: Average odds difference = -0.140612\n",
      "Test set: Theil_index = 0.089014\n"
     ]
    }
   ],
   "source": [
    "# Metrics for the dataset from plain model (without debiasing)\n",
    "display(Markdown(\"#### Plain model - without debiasing - dataset metrics\"))\n",
    "metric_dataset_nodebiasing_train = BinaryLabelDatasetMetric(dataset_nodebiasing_train, \n",
    "                                             unprivileged_groups=unprivileged_groups,\n",
    "                                             privileged_groups=privileged_groups)\n",
    "\n",
    "print(\"Train set: Difference in mean outcomes between unprivileged and privileged groups = %f\" % metric_dataset_nodebiasing_train.mean_difference())\n",
    "\n",
    "metric_dataset_nodebiasing_test = BinaryLabelDatasetMetric(dataset_nodebiasing_test, \n",
    "                                             unprivileged_groups=unprivileged_groups,\n",
    "                                             privileged_groups=privileged_groups)\n",
    "\n",
    "print(\"Test set: Difference in mean outcomes between unprivileged and privileged groups = %f\" % metric_dataset_nodebiasing_test.mean_difference())\n",
    "\n",
    "display(Markdown(\"#### Plain model - without debiasing - classification metrics\"))\n",
    "classified_metric_nodebiasing_test = ClassificationMetric(dataset_orig_test, \n",
    "                                                 dataset_nodebiasing_test,\n",
    "                                                 unprivileged_groups=unprivileged_groups,\n",
    "                                                 privileged_groups=privileged_groups)\n",
    "print(\"Test set: Classification accuracy = %f\" % classified_metric_nodebiasing_test.accuracy())\n",
    "TPR = classified_metric_nodebiasing_test.true_positive_rate()\n",
    "TNR = classified_metric_nodebiasing_test.true_negative_rate()\n",
    "bal_acc_nodebiasing_test = 0.5*(TPR+TNR)\n",
    "print(\"Test set: Balanced classification accuracy = %f\" % bal_acc_nodebiasing_test)\n",
    "print(\"Test set: Disparate impact = %f\" % classified_metric_nodebiasing_test.disparate_impact())\n",
    "print(\"Test set: Equal opportunity difference = %f\" % classified_metric_nodebiasing_test.equal_opportunity_difference())\n",
    "print(\"Test set: Average odds difference = %f\" % classified_metric_nodebiasing_test.average_odds_difference())\n",
    "print(\"Test set: Theil_index = %f\" % classified_metric_nodebiasing_test.theil_index())"
   ]
  },
  {
   "cell_type": "markdown",
   "metadata": {},
   "source": [
    "### Apply in-processing algorithm based on adversarial learning"
   ]
  },
  {
   "cell_type": "code",
   "execution_count": 12,
   "metadata": {
    "pycharm": {
     "is_executing": false
    }
   },
   "outputs": [],
   "source": [
    "sess.close()\n",
    "tf.reset_default_graph()\n",
    "sess = tf.Session()"
   ]
  },
  {
   "cell_type": "code",
   "execution_count": 13,
   "metadata": {
    "pycharm": {
     "is_executing": false
    }
   },
   "outputs": [],
   "source": [
    "# Learn parameters with debias set to True\n",
    "debiased_model = AdversarialDebiasing(privileged_groups = privileged_groups,\n",
    "                          unprivileged_groups = unprivileged_groups,\n",
    "                          scope_name='debiased_classifier',\n",
    "                          debias=True,\n",
    "                          sess=sess)"
   ]
  },
  {
   "cell_type": "code",
   "execution_count": 14,
   "metadata": {
    "pycharm": {
     "is_executing": false
    },
    "scrolled": true
   },
   "outputs": [
    {
     "name": "stdout",
     "output_type": "stream",
     "text": [
      "epoch 0; iter: 0; batch classifier loss: 0.656567; batch adversarial loss: 0.709344\n",
      "epoch 1; iter: 0; batch classifier loss: 0.641594; batch adversarial loss: 0.727363\n",
      "epoch 2; iter: 0; batch classifier loss: 0.616978; batch adversarial loss: 0.714867\n",
      "epoch 3; iter: 0; batch classifier loss: 0.609541; batch adversarial loss: 0.710521\n",
      "epoch 4; iter: 0; batch classifier loss: 0.617248; batch adversarial loss: 0.711693\n",
      "epoch 5; iter: 0; batch classifier loss: 0.639821; batch adversarial loss: 0.742497\n",
      "epoch 6; iter: 0; batch classifier loss: 0.613757; batch adversarial loss: 0.710913\n",
      "epoch 7; iter: 0; batch classifier loss: 0.552588; batch adversarial loss: 0.700107\n",
      "epoch 8; iter: 0; batch classifier loss: 0.583764; batch adversarial loss: 0.717890\n",
      "epoch 9; iter: 0; batch classifier loss: 0.577260; batch adversarial loss: 0.687692\n",
      "epoch 10; iter: 0; batch classifier loss: 0.564012; batch adversarial loss: 0.714105\n",
      "epoch 11; iter: 0; batch classifier loss: 0.565985; batch adversarial loss: 0.702603\n",
      "epoch 12; iter: 0; batch classifier loss: 0.561877; batch adversarial loss: 0.669775\n",
      "epoch 13; iter: 0; batch classifier loss: 0.561740; batch adversarial loss: 0.685895\n",
      "epoch 14; iter: 0; batch classifier loss: 0.541396; batch adversarial loss: 0.657998\n",
      "epoch 15; iter: 0; batch classifier loss: 0.533751; batch adversarial loss: 0.697177\n",
      "epoch 16; iter: 0; batch classifier loss: 0.515905; batch adversarial loss: 0.665325\n",
      "epoch 17; iter: 0; batch classifier loss: 0.511394; batch adversarial loss: 0.656084\n",
      "epoch 18; iter: 0; batch classifier loss: 0.570977; batch adversarial loss: 0.681728\n",
      "epoch 19; iter: 0; batch classifier loss: 0.569761; batch adversarial loss: 0.681463\n",
      "epoch 20; iter: 0; batch classifier loss: 0.537708; batch adversarial loss: 0.676722\n",
      "epoch 21; iter: 0; batch classifier loss: 0.512495; batch adversarial loss: 0.677651\n",
      "epoch 22; iter: 0; batch classifier loss: 0.603444; batch adversarial loss: 0.676306\n",
      "epoch 23; iter: 0; batch classifier loss: 0.604380; batch adversarial loss: 0.692416\n",
      "epoch 24; iter: 0; batch classifier loss: 0.561200; batch adversarial loss: 0.683899\n",
      "epoch 25; iter: 0; batch classifier loss: 0.609274; batch adversarial loss: 0.694373\n",
      "epoch 26; iter: 0; batch classifier loss: 0.627986; batch adversarial loss: 0.654795\n",
      "epoch 27; iter: 0; batch classifier loss: 0.557324; batch adversarial loss: 0.653536\n",
      "epoch 28; iter: 0; batch classifier loss: 0.498998; batch adversarial loss: 0.664638\n",
      "epoch 29; iter: 0; batch classifier loss: 0.589171; batch adversarial loss: 0.662056\n",
      "epoch 30; iter: 0; batch classifier loss: 0.589401; batch adversarial loss: 0.653124\n",
      "epoch 31; iter: 0; batch classifier loss: 0.593033; batch adversarial loss: 0.670172\n",
      "epoch 32; iter: 0; batch classifier loss: 0.583005; batch adversarial loss: 0.661424\n",
      "epoch 33; iter: 0; batch classifier loss: 0.592884; batch adversarial loss: 0.669121\n",
      "epoch 34; iter: 0; batch classifier loss: 0.571636; batch adversarial loss: 0.630372\n",
      "epoch 35; iter: 0; batch classifier loss: 0.490430; batch adversarial loss: 0.634589\n",
      "epoch 36; iter: 0; batch classifier loss: 0.517111; batch adversarial loss: 0.650142\n",
      "epoch 37; iter: 0; batch classifier loss: 0.587489; batch adversarial loss: 0.669442\n",
      "epoch 38; iter: 0; batch classifier loss: 0.481378; batch adversarial loss: 0.639923\n",
      "epoch 39; iter: 0; batch classifier loss: 0.530804; batch adversarial loss: 0.648096\n",
      "epoch 40; iter: 0; batch classifier loss: 0.591264; batch adversarial loss: 0.648693\n",
      "epoch 41; iter: 0; batch classifier loss: 0.514190; batch adversarial loss: 0.638611\n",
      "epoch 42; iter: 0; batch classifier loss: 0.536041; batch adversarial loss: 0.626120\n",
      "epoch 43; iter: 0; batch classifier loss: 0.554097; batch adversarial loss: 0.651657\n",
      "epoch 44; iter: 0; batch classifier loss: 0.529732; batch adversarial loss: 0.650645\n",
      "epoch 45; iter: 0; batch classifier loss: 0.534808; batch adversarial loss: 0.630216\n",
      "epoch 46; iter: 0; batch classifier loss: 0.573099; batch adversarial loss: 0.610243\n",
      "epoch 47; iter: 0; batch classifier loss: 0.571919; batch adversarial loss: 0.642192\n",
      "epoch 48; iter: 0; batch classifier loss: 0.473752; batch adversarial loss: 0.634894\n",
      "epoch 49; iter: 0; batch classifier loss: 0.522820; batch adversarial loss: 0.630680\n"
     ]
    },
    {
     "data": {
      "text/plain": [
       "<aif360.algorithms.inprocessing.adversarial_debiasing.AdversarialDebiasing at 0x24cac9c6c88>"
      ]
     },
     "execution_count": 14,
     "metadata": {},
     "output_type": "execute_result"
    }
   ],
   "source": [
    "debiased_model.fit(dataset_orig_train)"
   ]
  },
  {
   "cell_type": "code",
   "execution_count": 15,
   "metadata": {
    "pycharm": {
     "is_executing": false
    }
   },
   "outputs": [],
   "source": [
    "# Apply the plain model to test data\n",
    "dataset_debiasing_train = debiased_model.predict(dataset_orig_train)\n",
    "dataset_debiasing_test = debiased_model.predict(dataset_orig_test)"
   ]
  },
  {
   "cell_type": "code",
   "execution_count": 16,
   "metadata": {
    "pycharm": {
     "is_executing": false
    }
   },
   "outputs": [
    {
     "data": {
      "text/markdown": [
       "#### Plain model - without debiasing - dataset metrics"
      ],
      "text/plain": [
       "<IPython.core.display.Markdown object>"
      ]
     },
     "metadata": {},
     "output_type": "display_data"
    },
    {
     "name": "stdout",
     "output_type": "stream",
     "text": [
      "Train set: Difference in mean outcomes between unprivileged and privileged groups = -0.120536\n",
      "Test set: Difference in mean outcomes between unprivileged and privileged groups = -0.113780\n"
     ]
    },
    {
     "data": {
      "text/markdown": [
       "#### Model - with debiasing - dataset metrics"
      ],
      "text/plain": [
       "<IPython.core.display.Markdown object>"
      ]
     },
     "metadata": {},
     "output_type": "display_data"
    },
    {
     "name": "stdout",
     "output_type": "stream",
     "text": [
      "Train set: Difference in mean outcomes between unprivileged and privileged groups = -0.063813\n",
      "Test set: Difference in mean outcomes between unprivileged and privileged groups = -0.039013\n"
     ]
    },
    {
     "data": {
      "text/markdown": [
       "#### Plain model - without debiasing - classification metrics"
      ],
      "text/plain": [
       "<IPython.core.display.Markdown object>"
      ]
     },
     "metadata": {},
     "output_type": "display_data"
    },
    {
     "name": "stdout",
     "output_type": "stream",
     "text": [
      "Test set: Classification accuracy = 0.713333\n",
      "Test set: Balanced classification accuracy = 0.539744\n",
      "Test set: Disparate impact = 0.881802\n",
      "Test set: Equal opportunity difference = -0.036338\n",
      "Test set: Average odds difference = -0.140612\n",
      "Test set: Theil_index = 0.089014\n"
     ]
    },
    {
     "data": {
      "text/markdown": [
       "#### Model - with debiasing - classification metrics"
      ],
      "text/plain": [
       "<IPython.core.display.Markdown object>"
      ]
     },
     "metadata": {},
     "output_type": "display_data"
    },
    {
     "name": "stdout",
     "output_type": "stream",
     "text": [
      "Test set: Classification accuracy = 0.693333\n",
      "Test set: Balanced classification accuracy = 0.542658\n",
      "Test set: Disparate impact = 0.956059\n",
      "Test set: Equal opportunity difference = 0.032844\n",
      "Test set: Average odds difference = -0.060567\n",
      "Test set: Theil_index = 0.127069\n"
     ]
    }
   ],
   "source": [
    "# Metrics for the dataset from plain model (without debiasing)\n",
    "display(Markdown(\"#### Plain model - without debiasing - dataset metrics\"))\n",
    "print(\"Train set: Difference in mean outcomes between unprivileged and privileged groups = %f\" % metric_dataset_nodebiasing_train.mean_difference())\n",
    "print(\"Test set: Difference in mean outcomes between unprivileged and privileged groups = %f\" % metric_dataset_nodebiasing_test.mean_difference())\n",
    "\n",
    "# Metrics for the dataset from model with debiasing\n",
    "display(Markdown(\"#### Model - with debiasing - dataset metrics\"))\n",
    "metric_dataset_debiasing_train = BinaryLabelDatasetMetric(dataset_debiasing_train, \n",
    "                                             unprivileged_groups=unprivileged_groups,\n",
    "                                             privileged_groups=privileged_groups)\n",
    "\n",
    "print(\"Train set: Difference in mean outcomes between unprivileged and privileged groups = %f\" % metric_dataset_debiasing_train.mean_difference())\n",
    "\n",
    "metric_dataset_debiasing_test = BinaryLabelDatasetMetric(dataset_debiasing_test, \n",
    "                                             unprivileged_groups=unprivileged_groups,\n",
    "                                             privileged_groups=privileged_groups)\n",
    "\n",
    "print(\"Test set: Difference in mean outcomes between unprivileged and privileged groups = %f\" % metric_dataset_debiasing_test.mean_difference())\n",
    "\n",
    "\n",
    "\n",
    "display(Markdown(\"#### Plain model - without debiasing - classification metrics\"))\n",
    "print(\"Test set: Classification accuracy = %f\" % classified_metric_nodebiasing_test.accuracy())\n",
    "TPR = classified_metric_nodebiasing_test.true_positive_rate()\n",
    "TNR = classified_metric_nodebiasing_test.true_negative_rate()\n",
    "bal_acc_nodebiasing_test = 0.5*(TPR+TNR)\n",
    "print(\"Test set: Balanced classification accuracy = %f\" % bal_acc_nodebiasing_test)\n",
    "print(\"Test set: Disparate impact = %f\" % classified_metric_nodebiasing_test.disparate_impact())\n",
    "print(\"Test set: Equal opportunity difference = %f\" % classified_metric_nodebiasing_test.equal_opportunity_difference())\n",
    "print(\"Test set: Average odds difference = %f\" % classified_metric_nodebiasing_test.average_odds_difference())\n",
    "print(\"Test set: Theil_index = %f\" % classified_metric_nodebiasing_test.theil_index())\n",
    "\n",
    "\n",
    "\n",
    "display(Markdown(\"#### Model - with debiasing - classification metrics\"))\n",
    "classified_metric_debiasing_test = ClassificationMetric(dataset_orig_test, \n",
    "                                                 dataset_debiasing_test,\n",
    "                                                 unprivileged_groups=unprivileged_groups,\n",
    "                                                 privileged_groups=privileged_groups)\n",
    "print(\"Test set: Classification accuracy = %f\" % classified_metric_debiasing_test.accuracy())\n",
    "TPR = classified_metric_debiasing_test.true_positive_rate()\n",
    "TNR = classified_metric_debiasing_test.true_negative_rate()\n",
    "bal_acc_debiasing_test = 0.5*(TPR+TNR)\n",
    "print(\"Test set: Balanced classification accuracy = %f\" % bal_acc_debiasing_test)\n",
    "print(\"Test set: Disparate impact = %f\" % classified_metric_debiasing_test.disparate_impact())\n",
    "print(\"Test set: Equal opportunity difference = %f\" % classified_metric_debiasing_test.equal_opportunity_difference())\n",
    "print(\"Test set: Average odds difference = %f\" % classified_metric_debiasing_test.average_odds_difference())\n",
    "print(\"Test set: Theil_index = %f\" % classified_metric_debiasing_test.theil_index())"
   ]
  },
  {
   "cell_type": "markdown",
   "metadata": {},
   "source": [
    "\n",
    "    References:\n",
    "    [1] B. H. Zhang, B. Lemoine, and M. Mitchell, \"Mitigating UnwantedBiases with Adversarial Learning,\" \n",
    "    AAAI/ACM Conference on Artificial Intelligence, Ethics, and Society, 2018."
   ]
  },
  {
   "cell_type": "code",
   "execution_count": 17,
   "metadata": {
    "pycharm": {
     "is_executing": false
    }
   },
   "outputs": [
    {
     "name": "stdout",
     "output_type": "stream",
     "text": [
      "0.9423076923076923\n",
      "0.11956521739130435\n",
      "0.8804347826086957\n"
     ]
    }
   ],
   "source": [
    "TPR = classified_metric_debiasing_test.true_positive_rate()\n",
    "TNR = classified_metric_debiasing_test.true_negative_rate()\n",
    "FPR = classified_metric_debiasing_test.false_positive_rate()\n",
    "\n",
    "print(TPR)\n",
    "print(TNR)\n",
    "print(FPR)"
   ]
  },
  {
   "cell_type": "code",
   "execution_count": 20,
   "metadata": {},
   "outputs": [],
   "source": [
    "# def plot_metrics(metrics_before, metrics_after, \n",
    "#                  sensitive_attr='Sex',\n",
    "#                  mitigation='Adversarial De-biasing', dataset='Loan'):\n",
    "#     total = 4; cols = 4\n",
    "#     rows = total //cols; rows += total % cols\n",
    "#     pos = range(1, total+1)\n",
    "    \n",
    "#     fig = plt.figure(figsize=(36,rows*8))\n",
    "#     x_pos = [1,2]\n",
    "#     kwargs = {\n",
    "#         'color': ['grey', 'teal'],\n",
    "#         'tick_label': ['Before mitigation', 'After mitigation']\n",
    "#     }\n",
    "    \n",
    "#     i = 0; subplot_pad=20\n",
    "#     ax = fig.add_subplot(rows, cols, pos[i])\n",
    "#     ax.set_title('Classification Accuracy Difference', pad=subplot_pad)\n",
    "#     ax.bar(x_pos, [metrics_before.accuracy(), metrics_after.accuracy()],\n",
    "#                   **kwargs)\n",
    "\n",
    "#     metrics = {'Demographic Parity Difference': 'mean_difference',\n",
    "#                'Disparate Impact': 'disparate_impact',\n",
    "#                'Equal Opportunity Difference': 'equal_opportunity_difference'}\n",
    "    \n",
    "#     for title, methodname in  metrics.items():\n",
    "#         i += 1;\n",
    "#         ax = fig.add_subplot(rows, cols, pos[i])\n",
    "#         ax.set_title(title, pad=subplot_pad)\n",
    "#         ax.set_ylim([-0.5,1])\n",
    "#         ax.bar(x_pos, \n",
    "#                      [getattr(metrics_before, methodname)(), getattr(metrics_after, methodname)()],\n",
    "#                      **kwargs)\n",
    "        \n",
    "#     fig.subplots_adjust(bottom=0.2)\n",
    "#     title = 'Impact of {} on {} dataset - {}'.format(mitigation, dataset, sensitive_attr)\n",
    "#     fig.suptitle(title, y=0.08)\n",
    "#     fig.savefig('C:/Users/anush/Downloads/ML/Project/graphs/'+title+'.png')\n",
    "#     plt.show()\n",
    "\n",
    "# font = {'font.size'   : 18,\n",
    "#         'figure.titlesize': 30}\n",
    "# plt.rcParams.update(font)\n",
    "\n",
    "# plot_metrics(classified_metric_nodebiasing_test, classified_metric_debiasing_test)\n"
   ]
  },
  {
   "cell_type": "code",
   "execution_count": 19,
   "metadata": {},
   "outputs": [
    {
     "data": {
      "image/png": "[encoded data removed]",
      "text/plain": [
       "<Figure size 2592x576 with 4 Axes>"
      ]
     },
     "metadata": {},
     "output_type": "display_data"
    }
   ],
   "source": [
    "from common_utils import plot_metrics\n",
    "\n",
    "plot_metrics(classified_metric_nodebiasing_test, classified_metric_debiasing_test, sensitive_attr='Sex', dataset='Credit')"
   ]
  },
  {
   "cell_type": "code",
   "execution_count": null,
   "metadata": {},
   "outputs": [],
   "source": []
  }
 ],
 "metadata": {
  "kernelspec": {
   "display_name": "Python 3",
   "language": "python",
   "name": "python3"
  },
  "language_info": {
   "codemirror_mode": {
    "name": "ipython",
    "version": 3
   },
   "file_extension": ".py",
   "mimetype": "text/x-python",
   "name": "python",
   "nbconvert_exporter": "python",
   "pygments_lexer": "ipython3",
   "version": "3.7.3"
  },
  "pycharm": {
   "stem_cell": {
    "cell_type": "raw",
    "metadata": {
     "collapsed": false
    },
    "source": []
   }
  }
 },
 "nbformat": 4,
 "nbformat_minor": 2
}
